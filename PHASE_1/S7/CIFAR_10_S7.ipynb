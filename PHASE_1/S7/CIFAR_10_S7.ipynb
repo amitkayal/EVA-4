{
  "nbformat": 4,
  "nbformat_minor": 0,
  "metadata": {
    "kernelspec": {
      "name": "python3",
      "display_name": "Python 3"
    },
    "language_info": {
      "codemirror_mode": {
        "name": "ipython",
        "version": 3
      },
      "file_extension": ".py",
      "mimetype": "text/x-python",
      "name": "python",
      "nbconvert_exporter": "python",
      "pygments_lexer": "ipython3",
      "version": "3.6.6"
    },
    "colab": {
      "name": "CIFAR-10-S7.ipynb",
      "provenance": [],
      "collapsed_sections": [],
      "include_colab_link": true
    },
    "accelerator": "GPU"
  },
  "cells": [
    {
      "cell_type": "markdown",
      "metadata": {
        "id": "view-in-github",
        "colab_type": "text"
      },
      "source": [
        "<a href=\"https://colab.research.google.com/github/seepala98/EVA-4/blob/master/PHASE_1/S7/CIFAR_10_S7.ipynb\" target=\"_parent\"><img src=\"https://colab.research.google.com/assets/colab-badge.svg\" alt=\"Open In Colab\"/></a>"
      ]
    },
    {
      "cell_type": "markdown",
      "metadata": {
        "id": "Rg1ZVZ8xHEXI",
        "colab_type": "text"
      },
      "source": [
        "# Installing Packages\n",
        "The following packages need to be installed before running the code below\n",
        "- torchsummary"
      ]
    },
    {
      "cell_type": "code",
      "metadata": {
        "id": "zMOoKk0OHEqe",
        "colab_type": "code",
        "outputId": "68b114da-aaa7-410e-ddce-7ae38da85d67",
        "colab": {
          "base_uri": "https://localhost:8080/",
          "height": 34
        }
      },
      "source": [
        "!pip install torchsummary"
      ],
      "execution_count": 0,
      "outputs": [
        {
          "output_type": "stream",
          "text": [
            "Requirement already satisfied: torchsummary in /usr/local/lib/python3.6/dist-packages (1.5.1)\n"
          ],
          "name": "stdout"
        }
      ]
    },
    {
      "cell_type": "markdown",
      "metadata": {
        "id": "aO-7t1Y7-hV4",
        "colab_type": "text"
      },
      "source": [
        "# Imports\n",
        "Importing necessary packages"
      ]
    },
    {
      "cell_type": "code",
      "metadata": {
        "id": "-yVpodAMpoCi",
        "colab_type": "code",
        "colab": {}
      },
      "source": [
        "%matplotlib inline\n",
        "\n",
        "import random\n",
        "import numpy as np\n",
        "import matplotlib.pyplot as plt\n",
        "import torch\n",
        "import torch.nn as nn\n",
        "import torch.nn.functional as F\n",
        "import torch.optim as optim\n",
        "import torchvision\n",
        "\n",
        "from tqdm import tqdm\n",
        "from torchvision import datasets, transforms\n",
        "from torchsummary import summary"
      ],
      "execution_count": 0,
      "outputs": []
    },
    {
      "cell_type": "markdown",
      "metadata": {
        "id": "OfOSzHr1GW2c",
        "colab_type": "text"
      },
      "source": [
        "# Dataset Preparation and Loading\n",
        "The following steps are performed for preparing the dataset for the model.\n",
        "- Downloading the CIFAR-10 dataset\n",
        "- Visualizing the dataset\n",
        "- Defining data transformations\n",
        "- Splitting the dataset into train and validation set\n",
        "- Creating data loader for train and validation set"
      ]
    },
    {
      "cell_type": "markdown",
      "metadata": {
        "id": "ffnfhydPLQk5",
        "colab_type": "text"
      },
      "source": [
        "## Data Visualization\n",
        "Let's see how our data looks like. This information will help us decide the transformations that can be used on the dataset."
      ]
    },
    {
      "cell_type": "code",
      "metadata": {
        "id": "Edyw8Zc-7tTN",
        "colab_type": "code",
        "outputId": "4739b15a-0df9-4aca-bf50-16f906adaf29",
        "colab": {
          "base_uri": "https://localhost:8080/",
          "height": 164
        }
      },
      "source": [
        "# Download data\n",
        "cifar_dataset = datasets.CIFAR10('./data', train=True, download=True)\n",
        "sample_data, sample_targets = cifar_dataset.data, cifar_dataset.targets\n",
        "\n",
        "# Define classes of CIFAR dataset\n",
        "classes = (\n",
        "    'plane', 'car', 'bird', 'cat', 'deer',\n",
        "    'dog', 'frog', 'horse', 'ship', 'truck'\n",
        ")\n",
        "\n",
        "# Set number of images to display\n",
        "num_images = 4\n",
        "\n",
        "# Display images with labels\n",
        "fig, axs = plt.subplots(1, 4, figsize=(8, 8))\n",
        "fig.tight_layout()\n",
        "\n",
        "for i in range(num_images):\n",
        "    axs[i].axis('off')\n",
        "    axs[i].set_title(f'Label: {classes[sample_targets[i]]}')\n",
        "    axs[i].imshow(sample_data[i])"
      ],
      "execution_count": 0,
      "outputs": [
        {
          "output_type": "stream",
          "text": [
            "Files already downloaded and verified\n"
          ],
          "name": "stdout"
        },
        {
          "output_type": "display_data",
          "data": {
            "image/png": "[encoded data removed]",
            "text/plain": [
              "<Figure size 576x576 with 4 Axes>"
            ]
          },
          "metadata": {
            "tags": []
          }
        }
      ]
    },
    {
      "cell_type": "markdown",
      "metadata": {
        "id": "grHT765783fO",
        "colab_type": "text"
      },
      "source": [
        "## Data Transformations\n",
        "\n",
        "The following transformations will be used\n",
        "- ToTensor\n",
        "- Normalize"
      ]
    },
    {
      "cell_type": "code",
      "metadata": {
        "id": "0-UET4VS95VS",
        "colab_type": "code",
        "colab": {}
      },
      "source": [
        "# Train phase transformations\n",
        "train_transforms = transforms.Compose([\n",
        "    # convert the data to torch.FloatTensor with values within the range [0.0 ,1.0]\n",
        "    transforms.ToTensor(),\n",
        "\n",
        "    # normalize the data with mean and standard deviation to keep values in range [-1, 1]\n",
        "    # since there are 3 channels for each image,\n",
        "    # we have to specify mean and std for each channel\n",
        "    transforms.Normalize((0.5, 0.5, 0.5), (0.5, 0.5, 0.5))\n",
        "])\n",
        "\n",
        "# Validation phase transformations\n",
        "val_transforms = transforms.Compose([\n",
        "    transforms.ToTensor(),\n",
        "    transforms.Normalize((0.5, 0.5, 0.5), (0.5, 0.5, 0.5))\n",
        "])"
      ],
      "execution_count": 0,
      "outputs": []
    },
    {
      "cell_type": "markdown",
      "metadata": {
        "id": "1g-Wd56S-3tg",
        "colab_type": "text"
      },
      "source": [
        "## Train Data and Validation Data Split\n",
        "The data is downloaded and split into two sets: train and validation"
      ]
    },
    {
      "cell_type": "code",
      "metadata": {
        "id": "uCy5S8Vw-cN2",
        "colab_type": "code",
        "outputId": "55316c09-1873-4acb-d216-eb164f205dc8",
        "colab": {
          "base_uri": "https://localhost:8080/",
          "height": 51
        }
      },
      "source": [
        "train_data = datasets.CIFAR10('./data', train=True, download=True, transform=train_transforms)\n",
        "val_data = datasets.CIFAR10('./data', train=False, download=True, transform=val_transforms)"
      ],
      "execution_count": 0,
      "outputs": [
        {
          "output_type": "stream",
          "text": [
            "Files already downloaded and verified\n",
            "Files already downloaded and verified\n"
          ],
          "name": "stdout"
        }
      ]
    },
    {
      "cell_type": "markdown",
      "metadata": {
        "id": "qFcWRAeY_MsB",
        "colab_type": "text"
      },
      "source": [
        "## Training and Validation Dataloaders\n",
        "This is the final step in data preparation. It sets the dataloader arguments and then creates the dataloader"
      ]
    },
    {
      "cell_type": "code",
      "metadata": {
        "id": "D8Tjigo2poCl",
        "colab_type": "code",
        "outputId": "7e66a822-a643-4b1b-9576-0f9157bd7a28",
        "colab": {
          "base_uri": "https://localhost:8080/",
          "height": 34
        }
      },
      "source": [
        "SEED = 1\n",
        "\n",
        "cuda = torch.cuda.is_available()\n",
        "print('CUDA Available?', cuda)\n",
        "\n",
        "# For reproducibility of results\n",
        "torch.manual_seed(SEED)\n",
        "if cuda:\n",
        "    torch.cuda.manual_seed(SEED)\n",
        "\n",
        "# dataloader arguments\n",
        "dataloader_args = dict(shuffle=True, batch_size=128, num_workers=4, pin_memory=True) if cuda else dict(shuffle=True, batch_size=64, num_workers=2)\n",
        "\n",
        "# train dataloader\n",
        "train_loader = torch.utils.data.DataLoader(train_data, **dataloader_args)\n",
        "\n",
        "# validation dataloader\n",
        "val_loader = torch.utils.data.DataLoader(val_data, **dataloader_args)"
      ],
      "execution_count": 0,
      "outputs": [
        {
          "output_type": "stream",
          "text": [
            "CUDA Available? True\n"
          ],
          "name": "stdout"
        }
      ]
    },
    {
      "cell_type": "markdown",
      "metadata": {
        "id": "HSeDIqBq-6pC",
        "colab_type": "text"
      },
      "source": [
        "# Model Architecture\n",
        "Designing the model structure"
      ]
    },
    {
      "cell_type": "code",
      "metadata": {
        "id": "K1NZ7kqezHG7",
        "colab_type": "code",
        "colab": {}
      },
      "source": [
        "class Net(nn.Module):\n",
        "    def __init__(self):\n",
        "        \"\"\" This function instantiates all the model layers \"\"\"\n",
        "        super(Net, self).__init__()\n",
        "\n",
        "        dropout_rate = 0.05\n",
        "\n",
        "        self.convblock1 = nn.Sequential(\n",
        "            nn.Conv2d(in_channels=3, out_channels=32, kernel_size=3, padding=1),  # 32,3 | 32,32 | 3x3\n",
        "            nn.ReLU(),\n",
        "            nn.BatchNorm2d(32),\n",
        "            nn.Dropout(dropout_rate),\n",
        "\n",
        "            nn.Conv2d(in_channels=32, out_channels=64, kernel_size=3, padding=1),  # 32,32 | 32,64 | 5x5\n",
        "            nn.ReLU(),\n",
        "            nn.BatchNorm2d(64),\n",
        "            nn.Dropout(dropout_rate)\n",
        "        )\n",
        "\n",
        "        self.transblock1 = nn.Sequential(\n",
        "            nn.MaxPool2d(2, 2),  # 32,64 | 16,64 | 6x6\n",
        "            nn.Conv2d(in_channels=64, out_channels=32, kernel_size=1)  # 16,64 | 16,32 | 6x6\n",
        "        )\n",
        "\n",
        "        self.convblock2 = nn.Sequential(\n",
        "            nn.Conv2d(in_channels=32, out_channels=32, kernel_size=3, padding=1),  # 16,32 | 16,32 | 10x10\n",
        "            nn.ReLU(),\n",
        "            nn.BatchNorm2d(32),\n",
        "            nn.Dropout(dropout_rate),\n",
        "\n",
        "            nn.Conv2d(in_channels=32, out_channels=64, kernel_size=3, padding=1),  # 16,32 | 16,64 | 14x14\n",
        "            nn.ReLU(),\n",
        "            nn.BatchNorm2d(64),\n",
        "            nn.Dropout(dropout_rate)\n",
        "        )\n",
        "\n",
        "        self.transblock2 = nn.Sequential(\n",
        "            nn.MaxPool2d(2, 2),  # 16,64 | 8,64 | 16x16\n",
        "            nn.Conv2d(in_channels=64, out_channels=32, kernel_size=1)  # 8,64 | 8,32 | 16x16\n",
        "        )\n",
        "\n",
        "        self.convblock3 = nn.Sequential(\n",
        "            nn.Conv2d(in_channels=32, out_channels=32, kernel_size=3, padding=1),  # 8,32 | 8,2 | 24x24\n",
        "            nn.ReLU(),\n",
        "            nn.BatchNorm2d(32),\n",
        "            nn.Dropout(dropout_rate),\n",
        "\n",
        "            # Depthwise separable convolution\n",
        "            nn.Conv2d(in_channels=32, out_channels=32, kernel_size=3, groups=32, padding=1),  # 8,32 | 8,32 | 32x32\n",
        "            nn.Conv2d(in_channels=32, out_channels=64, kernel_size=1),  # 8,32 | 8,64 | 32x32\n",
        "            nn.ReLU(),\n",
        "            nn.BatchNorm2d(64),\n",
        "            nn.Dropout(dropout_rate)\n",
        "        )\n",
        "\n",
        "        self.transblock3 = nn.Sequential(\n",
        "            nn.MaxPool2d(2, 2),  # 8,64 | 4,64 | 36x36\n",
        "            nn.Conv2d(in_channels=64, out_channels=32, kernel_size=1)  # 4x,4 | 4,32 | 36x36\n",
        "        )\n",
        "\n",
        "        self.convblock4 = nn.Sequential(\n",
        "            nn.Conv2d(in_channels=32, out_channels=32, kernel_size=3, padding=1),  # 4,32 | 4,32 | 52x52\n",
        "            nn.ReLU(),\n",
        "            nn.BatchNorm2d(32),\n",
        "            nn.Dropout(dropout_rate),\n",
        "\n",
        "            # Dilated convolution\n",
        "            nn.Conv2d(in_channels=32, out_channels=64, kernel_size=3, padding=1, dilation=2),  # 4,32 | 4,64 | 84x84\n",
        "            nn.ReLU(),\n",
        "            nn.BatchNorm2d(64),\n",
        "            nn.Dropout(dropout_rate)\n",
        "        )\n",
        "\n",
        "        self.gap = nn.Sequential(\n",
        "            nn.AdaptiveAvgPool2d(1)\n",
        "        )  # 4,64 | 1,64\n",
        "\n",
        "        self.fc = nn.Sequential(\n",
        "            nn.Linear(64, 10)\n",
        "        )\n",
        "    \n",
        "    def forward(self, x):\n",
        "        \"\"\" This function defines the network structure \"\"\"\n",
        "        x = self.convblock1(x)\n",
        "        x = self.transblock1(x)\n",
        "        x = self.convblock2(x)\n",
        "        x = self.transblock2(x)\n",
        "        x = self.convblock3(x)\n",
        "        x = self.transblock3(x)\n",
        "        x = self.convblock4(x)\n",
        "        x = self.gap(x)\n",
        "        x = x.view(-1, 64)\n",
        "        x = self.fc(x)\n",
        "        return x"
      ],
      "execution_count": 0,
      "outputs": []
    },
    {
      "cell_type": "code",
      "metadata": {
        "id": "evKYo2HpQTQ4",
        "colab_type": "code",
        "outputId": "a30adc49-3b8d-43de-dfad-b9b5c36c73ef",
        "colab": {
          "base_uri": "https://localhost:8080/",
          "height": 935
        }
      },
      "source": [
        "device = torch.device(\"cuda\" if cuda else \"cpu\")\n",
        "model = Net().to(device)\n",
        "summary(model, input_size=(3, 32, 32))"
      ],
      "execution_count": 0,
      "outputs": [
        {
          "output_type": "stream",
          "text": [
            "----------------------------------------------------------------\n",
            "        Layer (type)               Output Shape         Param #\n",
            "================================================================\n",
            "            Conv2d-1           [-1, 32, 32, 32]             896\n",
            "              ReLU-2           [-1, 32, 32, 32]               0\n",
            "       BatchNorm2d-3           [-1, 32, 32, 32]              64\n",
            "           Dropout-4           [-1, 32, 32, 32]               0\n",
            "            Conv2d-5           [-1, 64, 32, 32]          18,496\n",
            "              ReLU-6           [-1, 64, 32, 32]               0\n",
            "       BatchNorm2d-7           [-1, 64, 32, 32]             128\n",
            "           Dropout-8           [-1, 64, 32, 32]               0\n",
            "         MaxPool2d-9           [-1, 64, 16, 16]               0\n",
            "           Conv2d-10           [-1, 32, 16, 16]           2,080\n",
            "           Conv2d-11           [-1, 32, 16, 16]           9,248\n",
            "             ReLU-12           [-1, 32, 16, 16]               0\n",
            "      BatchNorm2d-13           [-1, 32, 16, 16]              64\n",
            "          Dropout-14           [-1, 32, 16, 16]               0\n",
            "           Conv2d-15           [-1, 64, 16, 16]          18,496\n",
            "             ReLU-16           [-1, 64, 16, 16]               0\n",
            "      BatchNorm2d-17           [-1, 64, 16, 16]             128\n",
            "          Dropout-18           [-1, 64, 16, 16]               0\n",
            "        MaxPool2d-19             [-1, 64, 8, 8]               0\n",
            "           Conv2d-20             [-1, 32, 8, 8]           2,080\n",
            "           Conv2d-21             [-1, 32, 8, 8]           9,248\n",
            "             ReLU-22             [-1, 32, 8, 8]               0\n",
            "      BatchNorm2d-23             [-1, 32, 8, 8]              64\n",
            "          Dropout-24             [-1, 32, 8, 8]               0\n",
            "           Conv2d-25             [-1, 32, 8, 8]             320\n",
            "           Conv2d-26             [-1, 64, 8, 8]           2,112\n",
            "             ReLU-27             [-1, 64, 8, 8]               0\n",
            "      BatchNorm2d-28             [-1, 64, 8, 8]             128\n",
            "          Dropout-29             [-1, 64, 8, 8]               0\n",
            "        MaxPool2d-30             [-1, 64, 4, 4]               0\n",
            "           Conv2d-31             [-1, 32, 4, 4]           2,080\n",
            "           Conv2d-32             [-1, 32, 4, 4]           9,248\n",
            "             ReLU-33             [-1, 32, 4, 4]               0\n",
            "      BatchNorm2d-34             [-1, 32, 4, 4]              64\n",
            "          Dropout-35             [-1, 32, 4, 4]               0\n",
            "           Conv2d-36             [-1, 64, 2, 2]          18,496\n",
            "             ReLU-37             [-1, 64, 2, 2]               0\n",
            "      BatchNorm2d-38             [-1, 64, 2, 2]             128\n",
            "          Dropout-39             [-1, 64, 2, 2]               0\n",
            "AdaptiveAvgPool2d-40             [-1, 64, 1, 1]               0\n",
            "           Linear-41                   [-1, 10]             650\n",
            "================================================================\n",
            "Total params: 94,218\n",
            "Trainable params: 94,218\n",
            "Non-trainable params: 0\n",
            "----------------------------------------------------------------\n",
            "Input size (MB): 0.01\n",
            "Forward/backward pass size (MB): 4.22\n",
            "Params size (MB): 0.36\n",
            "Estimated Total Size (MB): 4.59\n",
            "----------------------------------------------------------------\n"
          ],
          "name": "stdout"
        }
      ]
    },
    {
      "cell_type": "markdown",
      "metadata": {
        "id": "HcyKrcQEGcdp",
        "colab_type": "text"
      },
      "source": [
        "# Model Training and Validation"
      ]
    },
    {
      "cell_type": "markdown",
      "metadata": {
        "id": "D2VZKTTi_FJx",
        "colab_type": "text"
      },
      "source": [
        "Function for model training"
      ]
    },
    {
      "cell_type": "code",
      "metadata": {
        "id": "ASwUz3kZhrLS",
        "colab_type": "code",
        "colab": {}
      },
      "source": [
        "def train(model, train_loader, device, optimizer, criterion):\n",
        "    model.train()\n",
        "    pbar = tqdm(train_loader)\n",
        "    correct = 0\n",
        "    processed = 0\n",
        "    for batch_idx, (data, target) in enumerate(pbar, 0):\n",
        "        # Get samples\n",
        "        data, target = data.to(device), target.to(device)\n",
        "\n",
        "        # Set gradients to zero before starting backpropagation\n",
        "        optimizer.zero_grad()\n",
        "\n",
        "        # Predict output\n",
        "        y_pred = model(data)\n",
        "\n",
        "        # Calculate loss\n",
        "        loss = criterion(y_pred, target)\n",
        "\n",
        "        # Perform backpropagation\n",
        "        loss.backward()\n",
        "        optimizer.step()\n",
        "\n",
        "        # Update progress bar\n",
        "        pred = y_pred.argmax(dim=1, keepdim=False)\n",
        "        correct += pred.eq(target).sum().item()\n",
        "        processed += len(data)\n",
        "        pbar.set_description(desc=f'Loss={loss.item():0.2f} Batch ID={batch_idx} Accuracy={(100 * correct / processed):.2f}')"
      ],
      "execution_count": 0,
      "outputs": []
    },
    {
      "cell_type": "markdown",
      "metadata": {
        "id": "EC1kZAnj_NbJ",
        "colab_type": "text"
      },
      "source": [
        "Function for model validation"
      ]
    },
    {
      "cell_type": "code",
      "metadata": {
        "id": "L64n8x43puo2",
        "colab_type": "code",
        "colab": {}
      },
      "source": [
        "def val(model, val_loader, device, criterion, losses, accuracies):\n",
        "    model.eval()\n",
        "    correct = 0\n",
        "    val_loss = 0\n",
        "    with torch.no_grad():\n",
        "        for data, target in val_loader:\n",
        "            img_batch = data  # This is done to keep data in CPU\n",
        "            data, target = data.to(device), target.to(device)  # Get samples\n",
        "            output = model(data)  # Get trained model output\n",
        "            val_loss += criterion(output, target).item()  # Sum up batch loss\n",
        "            pred = output.argmax(dim=1, keepdim=False)  # Get the index of the max log-probability\n",
        "\n",
        "            correct += pred.eq(target).sum().item()\n",
        "    \n",
        "    val_loss /= len(val_loader.dataset)\n",
        "    losses.append(val_loss)\n",
        "    accuracies.append(100. * correct / len(val_loader.dataset))\n",
        "    print(f'\\nValidation set: Average loss: {val_loss:.4f}, Accuracy: {correct}/{len(val_loader.dataset)} ({accuracies[-1]:.2f}%)\\n')"
      ],
      "execution_count": 0,
      "outputs": []
    },
    {
      "cell_type": "markdown",
      "metadata": {
        "id": "bpxs5bnkARdS",
        "colab_type": "text"
      },
      "source": [
        "Function for model execution"
      ]
    },
    {
      "cell_type": "code",
      "metadata": {
        "id": "Pk83iZb2uaEA",
        "colab_type": "code",
        "outputId": "c9d0aab2-0988-4505-f59b-1b57ea578bc5",
        "colab": {
          "base_uri": "https://localhost:8080/",
          "height": 1000
        }
      },
      "source": [
        "losses = []\n",
        "accuracies = []\n",
        "\n",
        "model = Net().to(device)\n",
        "criterion = nn.CrossEntropyLoss()\n",
        "optimizer = optim.SGD(model.parameters(), lr=0.01, momentum=0.95)\n",
        "epochs = 50\n",
        "\n",
        "for epoch in range(1, epochs + 1):\n",
        "    print(f'Epoch {epoch}:')\n",
        "    train(model, train_loader, device, optimizer, criterion)\n",
        "    val(model, val_loader, device, criterion, losses, accuracies)"
      ],
      "execution_count": 0,
      "outputs": [
        {
          "output_type": "stream",
          "text": [
            "\r  0%|          | 0/391 [00:00<?, ?it/s]"
          ],
          "name": "stderr"
        },
        {
          "output_type": "stream",
          "text": [
            "Epoch 1:\n"
          ],
          "name": "stdout"
        },
        {
          "output_type": "stream",
          "text": [
            "Loss=1.30 Batch ID=390 Accuracy=49.76: 100%|██████████| 391/391 [00:11<00:00, 34.74it/s]\n",
            "  0%|          | 0/391 [00:00<?, ?it/s]"
          ],
          "name": "stderr"
        },
        {
          "output_type": "stream",
          "text": [
            "\n",
            "Validation set: Average loss: 0.0086, Accuracy: 6090/10000 (60.90%)\n",
            "\n",
            "Epoch 2:\n"
          ],
          "name": "stdout"
        },
        {
          "output_type": "stream",
          "text": [
            "Loss=1.02 Batch ID=390 Accuracy=64.48: 100%|██████████| 391/391 [00:11<00:00, 33.54it/s]\n",
            "  0%|          | 0/391 [00:00<?, ?it/s]"
          ],
          "name": "stderr"
        },
        {
          "output_type": "stream",
          "text": [
            "\n",
            "Validation set: Average loss: 0.0074, Accuracy: 6620/10000 (66.20%)\n",
            "\n",
            "Epoch 3:\n"
          ],
          "name": "stdout"
        },
        {
          "output_type": "stream",
          "text": [
            "Loss=0.95 Batch ID=390 Accuracy=70.26: 100%|██████████| 391/391 [00:11<00:00, 34.06it/s]\n",
            "  0%|          | 0/391 [00:00<?, ?it/s]"
          ],
          "name": "stderr"
        },
        {
          "output_type": "stream",
          "text": [
            "\n",
            "Validation set: Average loss: 0.0064, Accuracy: 7216/10000 (72.16%)\n",
            "\n",
            "Epoch 4:\n"
          ],
          "name": "stdout"
        },
        {
          "output_type": "stream",
          "text": [
            "Loss=0.67 Batch ID=390 Accuracy=73.73: 100%|██████████| 391/391 [00:11<00:00, 33.60it/s]\n",
            "  0%|          | 0/391 [00:00<?, ?it/s]"
          ],
          "name": "stderr"
        },
        {
          "output_type": "stream",
          "text": [
            "\n",
            "Validation set: Average loss: 0.0058, Accuracy: 7454/10000 (74.54%)\n",
            "\n",
            "Epoch 5:\n"
          ],
          "name": "stdout"
        },
        {
          "output_type": "stream",
          "text": [
            "Loss=0.63 Batch ID=390 Accuracy=76.57: 100%|██████████| 391/391 [00:11<00:00, 34.55it/s]\n",
            "  0%|          | 0/391 [00:00<?, ?it/s]"
          ],
          "name": "stderr"
        },
        {
          "output_type": "stream",
          "text": [
            "\n",
            "Validation set: Average loss: 0.0056, Accuracy: 7542/10000 (75.42%)\n",
            "\n",
            "Epoch 6:\n"
          ],
          "name": "stdout"
        },
        {
          "output_type": "stream",
          "text": [
            "Loss=0.71 Batch ID=390 Accuracy=78.20: 100%|██████████| 391/391 [00:11<00:00, 34.75it/s]\n",
            "  0%|          | 0/391 [00:00<?, ?it/s]"
          ],
          "name": "stderr"
        },
        {
          "output_type": "stream",
          "text": [
            "\n",
            "Validation set: Average loss: 0.0054, Accuracy: 7673/10000 (76.73%)\n",
            "\n",
            "Epoch 7:\n"
          ],
          "name": "stdout"
        },
        {
          "output_type": "stream",
          "text": [
            "Loss=0.73 Batch ID=390 Accuracy=79.86: 100%|██████████| 391/391 [00:11<00:00, 33.15it/s]\n",
            "  0%|          | 0/391 [00:00<?, ?it/s]"
          ],
          "name": "stderr"
        },
        {
          "output_type": "stream",
          "text": [
            "\n",
            "Validation set: Average loss: 0.0050, Accuracy: 7793/10000 (77.93%)\n",
            "\n",
            "Epoch 8:\n"
          ],
          "name": "stdout"
        },
        {
          "output_type": "stream",
          "text": [
            "Loss=0.48 Batch ID=390 Accuracy=80.91: 100%|██████████| 391/391 [00:11<00:00, 33.94it/s]\n",
            "  0%|          | 0/391 [00:00<?, ?it/s]"
          ],
          "name": "stderr"
        },
        {
          "output_type": "stream",
          "text": [
            "\n",
            "Validation set: Average loss: 0.0048, Accuracy: 7872/10000 (78.72%)\n",
            "\n",
            "Epoch 9:\n"
          ],
          "name": "stdout"
        },
        {
          "output_type": "stream",
          "text": [
            "Loss=0.34 Batch ID=390 Accuracy=81.97: 100%|██████████| 391/391 [00:11<00:00, 33.79it/s]\n",
            "  0%|          | 0/391 [00:00<?, ?it/s]"
          ],
          "name": "stderr"
        },
        {
          "output_type": "stream",
          "text": [
            "\n",
            "Validation set: Average loss: 0.0047, Accuracy: 7982/10000 (79.82%)\n",
            "\n",
            "Epoch 10:\n"
          ],
          "name": "stdout"
        },
        {
          "output_type": "stream",
          "text": [
            "Loss=0.52 Batch ID=390 Accuracy=82.75: 100%|██████████| 391/391 [00:11<00:00, 34.01it/s]\n",
            "  0%|          | 0/391 [00:00<?, ?it/s]"
          ],
          "name": "stderr"
        },
        {
          "output_type": "stream",
          "text": [
            "\n",
            "Validation set: Average loss: 0.0046, Accuracy: 7994/10000 (79.94%)\n",
            "\n",
            "Epoch 11:\n"
          ],
          "name": "stdout"
        },
        {
          "output_type": "stream",
          "text": [
            "Loss=0.54 Batch ID=390 Accuracy=83.39: 100%|██████████| 391/391 [00:11<00:00, 33.43it/s]\n",
            "  0%|          | 0/391 [00:00<?, ?it/s]"
          ],
          "name": "stderr"
        },
        {
          "output_type": "stream",
          "text": [
            "\n",
            "Validation set: Average loss: 0.0045, Accuracy: 8076/10000 (80.76%)\n",
            "\n",
            "Epoch 12:\n"
          ],
          "name": "stdout"
        },
        {
          "output_type": "stream",
          "text": [
            "Loss=0.76 Batch ID=390 Accuracy=84.19: 100%|██████████| 391/391 [00:11<00:00, 33.23it/s]\n",
            "  0%|          | 0/391 [00:00<?, ?it/s]"
          ],
          "name": "stderr"
        },
        {
          "output_type": "stream",
          "text": [
            "\n",
            "Validation set: Average loss: 0.0046, Accuracy: 8058/10000 (80.58%)\n",
            "\n",
            "Epoch 13:\n"
          ],
          "name": "stdout"
        },
        {
          "output_type": "stream",
          "text": [
            "Loss=0.56 Batch ID=390 Accuracy=85.06: 100%|██████████| 391/391 [00:11<00:00, 33.40it/s]\n",
            "  0%|          | 0/391 [00:00<?, ?it/s]"
          ],
          "name": "stderr"
        },
        {
          "output_type": "stream",
          "text": [
            "\n",
            "Validation set: Average loss: 0.0044, Accuracy: 8166/10000 (81.66%)\n",
            "\n",
            "Epoch 14:\n"
          ],
          "name": "stdout"
        },
        {
          "output_type": "stream",
          "text": [
            "Loss=0.32 Batch ID=390 Accuracy=85.51: 100%|██████████| 391/391 [00:11<00:00, 40.71it/s]\n",
            "  0%|          | 0/391 [00:00<?, ?it/s]"
          ],
          "name": "stderr"
        },
        {
          "output_type": "stream",
          "text": [
            "\n",
            "Validation set: Average loss: 0.0045, Accuracy: 8092/10000 (80.92%)\n",
            "\n",
            "Epoch 15:\n"
          ],
          "name": "stdout"
        },
        {
          "output_type": "stream",
          "text": [
            "Loss=0.43 Batch ID=390 Accuracy=85.87: 100%|██████████| 391/391 [00:11<00:00, 40.77it/s]\n",
            "  0%|          | 0/391 [00:00<?, ?it/s]"
          ],
          "name": "stderr"
        },
        {
          "output_type": "stream",
          "text": [
            "\n",
            "Validation set: Average loss: 0.0044, Accuracy: 8120/10000 (81.20%)\n",
            "\n",
            "Epoch 16:\n"
          ],
          "name": "stdout"
        },
        {
          "output_type": "stream",
          "text": [
            "Loss=0.43 Batch ID=390 Accuracy=86.33: 100%|██████████| 391/391 [00:11<00:00, 33.48it/s]\n",
            "  0%|          | 0/391 [00:00<?, ?it/s]"
          ],
          "name": "stderr"
        },
        {
          "output_type": "stream",
          "text": [
            "\n",
            "Validation set: Average loss: 0.0043, Accuracy: 8168/10000 (81.68%)\n",
            "\n",
            "Epoch 17:\n"
          ],
          "name": "stdout"
        },
        {
          "output_type": "stream",
          "text": [
            "Loss=0.56 Batch ID=390 Accuracy=86.83: 100%|██████████| 391/391 [00:11<00:00, 34.30it/s]\n",
            "  0%|          | 0/391 [00:00<?, ?it/s]"
          ],
          "name": "stderr"
        },
        {
          "output_type": "stream",
          "text": [
            "\n",
            "Validation set: Average loss: 0.0044, Accuracy: 8171/10000 (81.71%)\n",
            "\n",
            "Epoch 18:\n"
          ],
          "name": "stdout"
        },
        {
          "output_type": "stream",
          "text": [
            "Loss=0.45 Batch ID=390 Accuracy=87.12: 100%|██████████| 391/391 [00:11<00:00, 34.08it/s]\n",
            "  0%|          | 0/391 [00:00<?, ?it/s]"
          ],
          "name": "stderr"
        },
        {
          "output_type": "stream",
          "text": [
            "\n",
            "Validation set: Average loss: 0.0044, Accuracy: 8114/10000 (81.14%)\n",
            "\n",
            "Epoch 19:\n"
          ],
          "name": "stdout"
        },
        {
          "output_type": "stream",
          "text": [
            "Loss=0.41 Batch ID=390 Accuracy=87.58: 100%|██████████| 391/391 [00:11<00:00, 34.12it/s]\n",
            "  0%|          | 0/391 [00:00<?, ?it/s]"
          ],
          "name": "stderr"
        },
        {
          "output_type": "stream",
          "text": [
            "\n",
            "Validation set: Average loss: 0.0043, Accuracy: 8220/10000 (82.20%)\n",
            "\n",
            "Epoch 20:\n"
          ],
          "name": "stdout"
        },
        {
          "output_type": "stream",
          "text": [
            "Loss=0.33 Batch ID=390 Accuracy=87.90: 100%|██████████| 391/391 [00:11<00:00, 33.32it/s]\n",
            "  0%|          | 0/391 [00:00<?, ?it/s]"
          ],
          "name": "stderr"
        },
        {
          "output_type": "stream",
          "text": [
            "\n",
            "Validation set: Average loss: 0.0043, Accuracy: 8223/10000 (82.23%)\n",
            "\n",
            "Epoch 21:\n"
          ],
          "name": "stdout"
        },
        {
          "output_type": "stream",
          "text": [
            "Loss=0.40 Batch ID=390 Accuracy=88.33: 100%|██████████| 391/391 [00:11<00:00, 33.05it/s]\n",
            "  0%|          | 0/391 [00:00<?, ?it/s]"
          ],
          "name": "stderr"
        },
        {
          "output_type": "stream",
          "text": [
            "\n",
            "Validation set: Average loss: 0.0043, Accuracy: 8279/10000 (82.79%)\n",
            "\n",
            "Epoch 22:\n"
          ],
          "name": "stdout"
        },
        {
          "output_type": "stream",
          "text": [
            "Loss=0.41 Batch ID=390 Accuracy=88.69: 100%|██████████| 391/391 [00:11<00:00, 33.21it/s]\n",
            "  0%|          | 0/391 [00:00<?, ?it/s]"
          ],
          "name": "stderr"
        },
        {
          "output_type": "stream",
          "text": [
            "\n",
            "Validation set: Average loss: 0.0044, Accuracy: 8196/10000 (81.96%)\n",
            "\n",
            "Epoch 23:\n"
          ],
          "name": "stdout"
        },
        {
          "output_type": "stream",
          "text": [
            "Loss=0.31 Batch ID=390 Accuracy=88.90: 100%|██████████| 391/391 [00:11<00:00, 33.73it/s]\n",
            "  0%|          | 0/391 [00:00<?, ?it/s]"
          ],
          "name": "stderr"
        },
        {
          "output_type": "stream",
          "text": [
            "\n",
            "Validation set: Average loss: 0.0044, Accuracy: 8190/10000 (81.90%)\n",
            "\n",
            "Epoch 24:\n"
          ],
          "name": "stdout"
        },
        {
          "output_type": "stream",
          "text": [
            "Loss=0.55 Batch ID=390 Accuracy=89.27: 100%|██████████| 391/391 [00:11<00:00, 34.12it/s]\n",
            "  0%|          | 0/391 [00:00<?, ?it/s]"
          ],
          "name": "stderr"
        },
        {
          "output_type": "stream",
          "text": [
            "\n",
            "Validation set: Average loss: 0.0044, Accuracy: 8222/10000 (82.22%)\n",
            "\n",
            "Epoch 25:\n"
          ],
          "name": "stdout"
        },
        {
          "output_type": "stream",
          "text": [
            "Loss=0.28 Batch ID=390 Accuracy=89.69: 100%|██████████| 391/391 [00:11<00:00, 33.34it/s]\n",
            "  0%|          | 0/391 [00:00<?, ?it/s]"
          ],
          "name": "stderr"
        },
        {
          "output_type": "stream",
          "text": [
            "\n",
            "Validation set: Average loss: 0.0042, Accuracy: 8305/10000 (83.05%)\n",
            "\n",
            "Epoch 26:\n"
          ],
          "name": "stdout"
        },
        {
          "output_type": "stream",
          "text": [
            "Loss=0.29 Batch ID=390 Accuracy=89.82: 100%|██████████| 391/391 [00:11<00:00, 33.65it/s]\n",
            "  0%|          | 0/391 [00:00<?, ?it/s]"
          ],
          "name": "stderr"
        },
        {
          "output_type": "stream",
          "text": [
            "\n",
            "Validation set: Average loss: 0.0045, Accuracy: 8163/10000 (81.63%)\n",
            "\n",
            "Epoch 27:\n"
          ],
          "name": "stdout"
        },
        {
          "output_type": "stream",
          "text": [
            "Loss=0.20 Batch ID=390 Accuracy=90.01: 100%|██████████| 391/391 [00:11<00:00, 39.41it/s]\n",
            "  0%|          | 0/391 [00:00<?, ?it/s]"
          ],
          "name": "stderr"
        },
        {
          "output_type": "stream",
          "text": [
            "\n",
            "Validation set: Average loss: 0.0045, Accuracy: 8187/10000 (81.87%)\n",
            "\n",
            "Epoch 28:\n"
          ],
          "name": "stdout"
        },
        {
          "output_type": "stream",
          "text": [
            "Loss=0.20 Batch ID=390 Accuracy=90.20: 100%|██████████| 391/391 [00:11<00:00, 33.85it/s]\n",
            "  0%|          | 0/391 [00:00<?, ?it/s]"
          ],
          "name": "stderr"
        },
        {
          "output_type": "stream",
          "text": [
            "\n",
            "Validation set: Average loss: 0.0044, Accuracy: 8298/10000 (82.98%)\n",
            "\n",
            "Epoch 29:\n"
          ],
          "name": "stdout"
        },
        {
          "output_type": "stream",
          "text": [
            "Loss=0.15 Batch ID=390 Accuracy=90.51: 100%|██████████| 391/391 [00:11<00:00, 41.55it/s]\n",
            "  0%|          | 0/391 [00:00<?, ?it/s]"
          ],
          "name": "stderr"
        },
        {
          "output_type": "stream",
          "text": [
            "\n",
            "Validation set: Average loss: 0.0043, Accuracy: 8292/10000 (82.92%)\n",
            "\n",
            "Epoch 30:\n"
          ],
          "name": "stdout"
        },
        {
          "output_type": "stream",
          "text": [
            "Loss=0.32 Batch ID=390 Accuracy=90.55: 100%|██████████| 391/391 [00:11<00:00, 33.51it/s]\n",
            "  0%|          | 0/391 [00:00<?, ?it/s]"
          ],
          "name": "stderr"
        },
        {
          "output_type": "stream",
          "text": [
            "\n",
            "Validation set: Average loss: 0.0046, Accuracy: 8240/10000 (82.40%)\n",
            "\n",
            "Epoch 31:\n"
          ],
          "name": "stdout"
        },
        {
          "output_type": "stream",
          "text": [
            "Loss=0.23 Batch ID=390 Accuracy=91.05: 100%|██████████| 391/391 [00:11<00:00, 32.66it/s]\n",
            "  0%|          | 0/391 [00:00<?, ?it/s]"
          ],
          "name": "stderr"
        },
        {
          "output_type": "stream",
          "text": [
            "\n",
            "Validation set: Average loss: 0.0046, Accuracy: 8256/10000 (82.56%)\n",
            "\n",
            "Epoch 32:\n"
          ],
          "name": "stdout"
        },
        {
          "output_type": "stream",
          "text": [
            "Loss=0.30 Batch ID=390 Accuracy=91.19: 100%|██████████| 391/391 [00:11<00:00, 33.60it/s]\n",
            "  0%|          | 0/391 [00:00<?, ?it/s]"
          ],
          "name": "stderr"
        },
        {
          "output_type": "stream",
          "text": [
            "\n",
            "Validation set: Average loss: 0.0048, Accuracy: 8208/10000 (82.08%)\n",
            "\n",
            "Epoch 33:\n"
          ],
          "name": "stdout"
        },
        {
          "output_type": "stream",
          "text": [
            "Loss=0.33 Batch ID=390 Accuracy=91.46: 100%|██████████| 391/391 [00:11<00:00, 33.27it/s]\n",
            "  0%|          | 0/391 [00:00<?, ?it/s]"
          ],
          "name": "stderr"
        },
        {
          "output_type": "stream",
          "text": [
            "\n",
            "Validation set: Average loss: 0.0046, Accuracy: 8289/10000 (82.89%)\n",
            "\n",
            "Epoch 34:\n"
          ],
          "name": "stdout"
        },
        {
          "output_type": "stream",
          "text": [
            "Loss=0.20 Batch ID=390 Accuracy=91.56: 100%|██████████| 391/391 [00:11<00:00, 32.93it/s]\n",
            "  0%|          | 0/391 [00:00<?, ?it/s]"
          ],
          "name": "stderr"
        },
        {
          "output_type": "stream",
          "text": [
            "\n",
            "Validation set: Average loss: 0.0046, Accuracy: 8286/10000 (82.86%)\n",
            "\n",
            "Epoch 35:\n"
          ],
          "name": "stdout"
        },
        {
          "output_type": "stream",
          "text": [
            "Loss=0.23 Batch ID=390 Accuracy=91.73: 100%|██████████| 391/391 [00:11<00:00, 33.30it/s]\n",
            "  0%|          | 0/391 [00:00<?, ?it/s]"
          ],
          "name": "stderr"
        },
        {
          "output_type": "stream",
          "text": [
            "\n",
            "Validation set: Average loss: 0.0047, Accuracy: 8281/10000 (82.81%)\n",
            "\n",
            "Epoch 36:\n"
          ],
          "name": "stdout"
        },
        {
          "output_type": "stream",
          "text": [
            "Loss=0.30 Batch ID=390 Accuracy=91.74: 100%|██████████| 391/391 [00:11<00:00, 33.14it/s]\n",
            "  0%|          | 0/391 [00:00<?, ?it/s]"
          ],
          "name": "stderr"
        },
        {
          "output_type": "stream",
          "text": [
            "\n",
            "Validation set: Average loss: 0.0046, Accuracy: 8257/10000 (82.57%)\n",
            "\n",
            "Epoch 37:\n"
          ],
          "name": "stdout"
        },
        {
          "output_type": "stream",
          "text": [
            "Loss=0.35 Batch ID=390 Accuracy=91.62: 100%|██████████| 391/391 [00:11<00:00, 33.48it/s]\n",
            "  0%|          | 0/391 [00:00<?, ?it/s]"
          ],
          "name": "stderr"
        },
        {
          "output_type": "stream",
          "text": [
            "\n",
            "Validation set: Average loss: 0.0046, Accuracy: 8296/10000 (82.96%)\n",
            "\n",
            "Epoch 38:\n"
          ],
          "name": "stdout"
        },
        {
          "output_type": "stream",
          "text": [
            "Loss=0.23 Batch ID=390 Accuracy=92.18: 100%|██████████| 391/391 [00:12<00:00, 31.58it/s]\n",
            "  0%|          | 0/391 [00:00<?, ?it/s]"
          ],
          "name": "stderr"
        },
        {
          "output_type": "stream",
          "text": [
            "\n",
            "Validation set: Average loss: 0.0047, Accuracy: 8289/10000 (82.89%)\n",
            "\n",
            "Epoch 39:\n"
          ],
          "name": "stdout"
        },
        {
          "output_type": "stream",
          "text": [
            "Loss=0.23 Batch ID=390 Accuracy=91.99: 100%|██████████| 391/391 [00:11<00:00, 32.86it/s]\n",
            "  0%|          | 0/391 [00:00<?, ?it/s]"
          ],
          "name": "stderr"
        },
        {
          "output_type": "stream",
          "text": [
            "\n",
            "Validation set: Average loss: 0.0045, Accuracy: 8326/10000 (83.26%)\n",
            "\n",
            "Epoch 40:\n"
          ],
          "name": "stdout"
        },
        {
          "output_type": "stream",
          "text": [
            "Loss=0.27 Batch ID=390 Accuracy=92.39: 100%|██████████| 391/391 [00:11<00:00, 32.85it/s]\n",
            "  0%|          | 0/391 [00:00<?, ?it/s]"
          ],
          "name": "stderr"
        },
        {
          "output_type": "stream",
          "text": [
            "\n",
            "Validation set: Average loss: 0.0046, Accuracy: 8258/10000 (82.58%)\n",
            "\n",
            "Epoch 41:\n"
          ],
          "name": "stdout"
        },
        {
          "output_type": "stream",
          "text": [
            "Loss=0.20 Batch ID=390 Accuracy=92.42: 100%|██████████| 391/391 [00:11<00:00, 33.47it/s]\n",
            "  0%|          | 0/391 [00:00<?, ?it/s]"
          ],
          "name": "stderr"
        },
        {
          "output_type": "stream",
          "text": [
            "\n",
            "Validation set: Average loss: 0.0047, Accuracy: 8305/10000 (83.05%)\n",
            "\n",
            "Epoch 42:\n"
          ],
          "name": "stdout"
        },
        {
          "output_type": "stream",
          "text": [
            "Loss=0.17 Batch ID=390 Accuracy=92.56: 100%|██████████| 391/391 [00:12<00:00, 31.34it/s]\n",
            "  0%|          | 0/391 [00:00<?, ?it/s]"
          ],
          "name": "stderr"
        },
        {
          "output_type": "stream",
          "text": [
            "\n",
            "Validation set: Average loss: 0.0045, Accuracy: 8319/10000 (83.19%)\n",
            "\n",
            "Epoch 43:\n"
          ],
          "name": "stdout"
        },
        {
          "output_type": "stream",
          "text": [
            "Loss=0.22 Batch ID=390 Accuracy=92.70: 100%|██████████| 391/391 [00:11<00:00, 32.75it/s]\n",
            "  0%|          | 0/391 [00:00<?, ?it/s]"
          ],
          "name": "stderr"
        },
        {
          "output_type": "stream",
          "text": [
            "\n",
            "Validation set: Average loss: 0.0047, Accuracy: 8307/10000 (83.07%)\n",
            "\n",
            "Epoch 44:\n"
          ],
          "name": "stdout"
        },
        {
          "output_type": "stream",
          "text": [
            "Loss=0.29 Batch ID=390 Accuracy=92.74: 100%|██████████| 391/391 [00:11<00:00, 32.66it/s]\n",
            "  0%|          | 0/391 [00:00<?, ?it/s]"
          ],
          "name": "stderr"
        },
        {
          "output_type": "stream",
          "text": [
            "\n",
            "Validation set: Average loss: 0.0047, Accuracy: 8297/10000 (82.97%)\n",
            "\n",
            "Epoch 45:\n"
          ],
          "name": "stdout"
        },
        {
          "output_type": "stream",
          "text": [
            "Loss=0.18 Batch ID=390 Accuracy=92.97: 100%|██████████| 391/391 [00:11<00:00, 33.27it/s]\n",
            "  0%|          | 0/391 [00:00<?, ?it/s]"
          ],
          "name": "stderr"
        },
        {
          "output_type": "stream",
          "text": [
            "\n",
            "Validation set: Average loss: 0.0047, Accuracy: 8331/10000 (83.31%)\n",
            "\n",
            "Epoch 46:\n"
          ],
          "name": "stdout"
        },
        {
          "output_type": "stream",
          "text": [
            "Loss=0.24 Batch ID=390 Accuracy=92.96: 100%|██████████| 391/391 [00:11<00:00, 33.57it/s]\n",
            "  0%|          | 0/391 [00:00<?, ?it/s]"
          ],
          "name": "stderr"
        },
        {
          "output_type": "stream",
          "text": [
            "\n",
            "Validation set: Average loss: 0.0046, Accuracy: 8365/10000 (83.65%)\n",
            "\n",
            "Epoch 47:\n"
          ],
          "name": "stdout"
        },
        {
          "output_type": "stream",
          "text": [
            "Loss=0.18 Batch ID=390 Accuracy=93.16: 100%|██████████| 391/391 [00:12<00:00, 32.20it/s]\n",
            "  0%|          | 0/391 [00:00<?, ?it/s]"
          ],
          "name": "stderr"
        },
        {
          "output_type": "stream",
          "text": [
            "\n",
            "Validation set: Average loss: 0.0046, Accuracy: 8328/10000 (83.28%)\n",
            "\n",
            "Epoch 48:\n"
          ],
          "name": "stdout"
        },
        {
          "output_type": "stream",
          "text": [
            "Loss=0.13 Batch ID=390 Accuracy=93.14: 100%|██████████| 391/391 [00:11<00:00, 38.82it/s]\n",
            "  0%|          | 0/391 [00:00<?, ?it/s]"
          ],
          "name": "stderr"
        },
        {
          "output_type": "stream",
          "text": [
            "\n",
            "Validation set: Average loss: 0.0048, Accuracy: 8316/10000 (83.16%)\n",
            "\n",
            "Epoch 49:\n"
          ],
          "name": "stdout"
        },
        {
          "output_type": "stream",
          "text": [
            "Loss=0.24 Batch ID=390 Accuracy=93.50: 100%|██████████| 391/391 [00:11<00:00, 32.81it/s]\n",
            "  0%|          | 0/391 [00:00<?, ?it/s]"
          ],
          "name": "stderr"
        },
        {
          "output_type": "stream",
          "text": [
            "\n",
            "Validation set: Average loss: 0.0048, Accuracy: 8324/10000 (83.24%)\n",
            "\n",
            "Epoch 50:\n"
          ],
          "name": "stdout"
        },
        {
          "output_type": "stream",
          "text": [
            "Loss=0.19 Batch ID=390 Accuracy=93.48: 100%|██████████| 391/391 [00:11<00:00, 40.03it/s]\n"
          ],
          "name": "stderr"
        },
        {
          "output_type": "stream",
          "text": [
            "\n",
            "Validation set: Average loss: 0.0049, Accuracy: 8283/10000 (82.83%)\n",
            "\n"
          ],
          "name": "stdout"
        }
      ]
    },
    {
      "cell_type": "markdown",
      "metadata": {
        "id": "2o99Jq1XTdo-",
        "colab_type": "text"
      },
      "source": [
        "## Plotting Results\n",
        "Plotting changes in validation loss and accuracy obtained during model training."
      ]
    },
    {
      "cell_type": "code",
      "metadata": {
        "id": "0X1Y72EbGgpr",
        "colab_type": "code",
        "colab": {}
      },
      "source": [
        "def plot_metric(values, metric):\n",
        "    # Initialize a figure\n",
        "    fig = plt.figure(figsize=(7, 5))\n",
        "\n",
        "    # Plot values\n",
        "    plt.plot(values)\n",
        "\n",
        "    # Set plot title\n",
        "    plt.title(f'Validation {metric}')\n",
        "\n",
        "    # Label axes\n",
        "    plt.xlabel('Epoch')\n",
        "    plt.ylabel(metric)\n",
        "\n",
        "    # Set legend\n",
        "    location = 'upper' if metric == 'Loss' else 'lower'\n",
        "\n",
        "    # Save plot\n",
        "    fig.savefig(f'{metric.lower()}_change.png')"
      ],
      "execution_count": 0,
      "outputs": []
    },
    {
      "cell_type": "markdown",
      "metadata": {
        "id": "OvkqQXw-2buM",
        "colab_type": "text"
      },
      "source": [
        "Plot changes in validation loss"
      ]
    },
    {
      "cell_type": "code",
      "metadata": {
        "id": "YSZR02cuA067",
        "colab_type": "code",
        "outputId": "beed35c1-9806-48cc-abde-d199d90873ff",
        "colab": {
          "base_uri": "https://localhost:8080/",
          "height": 350
        }
      },
      "source": [
        "plot_metric(losses, 'Loss')"
      ],
      "execution_count": 0,
      "outputs": [
        {
          "output_type": "display_data",
          "data": {
            "image/png": "[encoded data removed]",
            "text/plain": [
              "<Figure size 504x360 with 1 Axes>"
            ]
          },
          "metadata": {
            "tags": []
          }
        }
      ]
    },
    {
      "cell_type": "markdown",
      "metadata": {
        "id": "OSctNrPG2afY",
        "colab_type": "text"
      },
      "source": [
        "Plot changes in validation accuracy"
      ]
    },
    {
      "cell_type": "code",
      "metadata": {
        "id": "xMFYHCFVA7Z-",
        "colab_type": "code",
        "outputId": "0a219f36-cc53-421e-a584-266683e434f7",
        "colab": {
          "base_uri": "https://localhost:8080/",
          "height": 350
        }
      },
      "source": [
        "plot_metric(accuracies, 'Accuracy')"
      ],
      "execution_count": 0,
      "outputs": [
        {
          "output_type": "display_data",
          "data": {
            "image/png": "[encoded data removed]",
            "text/plain": [
              "<Figure size 504x360 with 1 Axes>"
            ]
          },
          "metadata": {
            "tags": []
          }
        }
      ]
    },
    {
      "cell_type": "markdown",
      "metadata": {
        "id": "frMHF1KQt0Ff",
        "colab_type": "text"
      },
      "source": [
        "## Display Results"
      ]
    },
    {
      "cell_type": "code",
      "metadata": {
        "id": "XjInY5MIBX_6",
        "colab_type": "code",
        "outputId": "d740fb37-7f89-4f7f-8d24-d9d8b2ced112",
        "colab": {
          "base_uri": "https://localhost:8080/",
          "height": 163
        }
      },
      "source": [
        "# Set number of images to display\n",
        "num_images = 10\n",
        "images, targets = val_data.data, val_data.targets\n",
        "images_idx = random.sample(range(0, images.shape[0]), num_images)\n",
        "\n",
        "fig, axs = plt.subplots(1, num_images, figsize=(20, 20))\n",
        "fig.tight_layout()\n",
        "\n",
        "with torch.no_grad():\n",
        "    count = 0\n",
        "    for idx in images_idx:\n",
        "        # Prepare images and targets\n",
        "        image = images[idx]\n",
        "        target = targets[idx]\n",
        "        images_tensor = torch.Tensor(\n",
        "            np.expand_dims(np.transpose(image, (2, 0, 1)), axis=0)\n",
        "        )\n",
        "\n",
        "        # Get model predictions\n",
        "        images_cuda = images_tensor.to(device)\n",
        "        outputs = model(images_cuda)\n",
        "        _, predicted = torch.max(outputs, 1)\n",
        "\n",
        "        axs[count].axis('off')\n",
        "        axs[count].set_title(f'Label: {classes[target]}\\nPrediction: {classes[predicted.item()]}')\n",
        "        axs[count].imshow(image)\n",
        "        count += 1"
      ],
      "execution_count": 0,
      "outputs": [
        {
          "output_type": "display_data",
          "data": {
            "image/png": "[encoded data removed]",
            "text/plain": [
              "<Figure size 1440x1440 with 10 Axes>"
            ]
          },
          "metadata": {
            "tags": []
          }
        }
      ]
    },
    {
      "cell_type": "markdown",
      "metadata": {
        "id": "eDdwPBl8poDF",
        "colab_type": "text"
      },
      "source": [
        "## Result Analysis\n",
        "\n",
        "Displaying accuracy for each class in the entire validation dataset"
      ]
    },
    {
      "cell_type": "code",
      "metadata": {
        "id": "pDNFuDEDpoDG",
        "colab_type": "code",
        "outputId": "fcc486f1-42d9-48d6-8e24-3c6611c8cf54",
        "colab": {
          "base_uri": "https://localhost:8080/",
          "height": 187
        }
      },
      "source": [
        "class_correct = list(0. for i in range(10))\n",
        "class_total = list(0. for i in range(10))\n",
        "\n",
        "with torch.no_grad():\n",
        "    for _, (images, labels) in enumerate(val_loader, 0):\n",
        "        images, labels = images.to(device), labels.to(device)\n",
        "\n",
        "        outputs = model(images)\n",
        "        _, predicted = torch.max(outputs, 1)\n",
        "        c = (predicted == labels).squeeze()\n",
        "\n",
        "        for i in range(len(labels)):\n",
        "            label = labels[i]\n",
        "            class_correct[label] += c[i].item()\n",
        "            class_total[label] += 1\n",
        "\n",
        "\n",
        "for i in range(10):\n",
        "    print('Accuracy of %5s : %2d %%' % (classes[i], 100 * class_correct[i] / class_total[i]))"
      ],
      "execution_count": 0,
      "outputs": [
        {
          "output_type": "stream",
          "text": [
            "Accuracy of plane : 86 %\n",
            "Accuracy of   car : 91 %\n",
            "Accuracy of  bird : 72 %\n",
            "Accuracy of   cat : 71 %\n",
            "Accuracy of  deer : 82 %\n",
            "Accuracy of   dog : 71 %\n",
            "Accuracy of  frog : 90 %\n",
            "Accuracy of horse : 80 %\n",
            "Accuracy of  ship : 91 %\n",
            "Accuracy of truck : 89 %\n"
          ],
          "name": "stdout"
        }
      ]
    },
    {
      "cell_type": "code",
      "metadata": {
        "id": "lBXFeKGvXJba",
        "colab_type": "code",
        "colab": {}
      },
      "source": [
        ""
      ],
      "execution_count": 0,
      "outputs": []
    }
  ]
}