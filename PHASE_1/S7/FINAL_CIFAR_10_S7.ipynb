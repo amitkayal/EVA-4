{
  "nbformat": 4,
  "nbformat_minor": 0,
  "metadata": {
    "kernelspec": {
      "name": "python3",
      "display_name": "Python 3"
    },
    "language_info": {
      "codemirror_mode": {
        "name": "ipython",
        "version": 3
      },
      "file_extension": ".py",
      "mimetype": "text/x-python",
      "name": "python",
      "nbconvert_exporter": "python",
      "pygments_lexer": "ipython3",
      "version": "3.6.6"
    },
    "colab": {
      "name": "CIFAR-10-S7.ipynb",
      "provenance": [],
      "collapsed_sections": [],
      "include_colab_link": true
    },
    "accelerator": "GPU",
    "widgets": {
      "application/vnd.jupyter.widget-state+json": {
        "e3e5ed74a3f44cec9fe53b23c358ee78": {
          "model_module": "@jupyter-widgets/controls",
          "model_name": "HBoxModel",
          "state": {
            "_view_name": "HBoxView",
            "_dom_classes": [],
            "_model_name": "HBoxModel",
            "_view_module": "@jupyter-widgets/controls",
            "_model_module_version": "1.5.0",
            "_view_count": null,
            "_view_module_version": "1.5.0",
            "box_style": "",
            "layout": "IPY_MODEL_715673dd61e144e0927805251afb9b1a",
            "_model_module": "@jupyter-widgets/controls",
            "children": [
              "IPY_MODEL_58fb413cb0dc479793809b27642d4d65",
              "IPY_MODEL_c353a6a47fc34b389ed2724ee3aaa35f"
            ]
          }
        },
        "715673dd61e144e0927805251afb9b1a": {
          "model_module": "@jupyter-widgets/base",
          "model_name": "LayoutModel",
          "state": {
            "_view_name": "LayoutView",
            "grid_template_rows": null,
            "right": null,
            "justify_content": null,
            "_view_module": "@jupyter-widgets/base",
            "overflow": null,
            "_model_module_version": "1.2.0",
            "_view_count": null,
            "flex_flow": null,
            "width": null,
            "min_width": null,
            "border": null,
            "align_items": null,
            "bottom": null,
            "_model_module": "@jupyter-widgets/base",
            "top": null,
            "grid_column": null,
            "overflow_y": null,
            "overflow_x": null,
            "grid_auto_flow": null,
            "grid_area": null,
            "grid_template_columns": null,
            "flex": null,
            "_model_name": "LayoutModel",
            "justify_items": null,
            "grid_row": null,
            "max_height": null,
            "align_content": null,
            "visibility": null,
            "align_self": null,
            "height": null,
            "min_height": null,
            "padding": null,
            "grid_auto_rows": null,
            "grid_gap": null,
            "max_width": null,
            "order": null,
            "_view_module_version": "1.2.0",
            "grid_template_areas": null,
            "object_position": null,
            "object_fit": null,
            "grid_auto_columns": null,
            "margin": null,
            "display": null,
            "left": null
          }
        },
        "58fb413cb0dc479793809b27642d4d65": {
          "model_module": "@jupyter-widgets/controls",
          "model_name": "IntProgressModel",
          "state": {
            "_view_name": "ProgressView",
            "style": "IPY_MODEL_7cd5703c51c5445f87b2b4fbb890ca4f",
            "_dom_classes": [],
            "description": "",
            "_model_name": "IntProgressModel",
            "bar_style": "success",
            "max": 1,
            "_view_module": "@jupyter-widgets/controls",
            "_model_module_version": "1.5.0",
            "value": 1,
            "_view_count": null,
            "_view_module_version": "1.5.0",
            "orientation": "horizontal",
            "min": 0,
            "description_tooltip": null,
            "_model_module": "@jupyter-widgets/controls",
            "layout": "IPY_MODEL_bc96f77c421b45a385c6ec7e2ec99212"
          }
        },
        "c353a6a47fc34b389ed2724ee3aaa35f": {
          "model_module": "@jupyter-widgets/controls",
          "model_name": "HTMLModel",
          "state": {
            "_view_name": "HTMLView",
            "style": "IPY_MODEL_eea1eb94bf594ac7b6eafa7e54ef8aca",
            "_dom_classes": [],
            "description": "",
            "_model_name": "HTMLModel",
            "placeholder": "​",
            "_view_module": "@jupyter-widgets/controls",
            "_model_module_version": "1.5.0",
            "value": "170500096it [00:06, 27947984.82it/s]",
            "_view_count": null,
            "_view_module_version": "1.5.0",
            "description_tooltip": null,
            "_model_module": "@jupyter-widgets/controls",
            "layout": "IPY_MODEL_4e9547c57ee340779c5b75b10a9cbfc7"
          }
        },
        "7cd5703c51c5445f87b2b4fbb890ca4f": {
          "model_module": "@jupyter-widgets/controls",
          "model_name": "ProgressStyleModel",
          "state": {
            "_view_name": "StyleView",
            "_model_name": "ProgressStyleModel",
            "description_width": "",
            "_view_module": "@jupyter-widgets/base",
            "_model_module_version": "1.5.0",
            "_view_count": null,
            "_view_module_version": "1.2.0",
            "bar_color": null,
            "_model_module": "@jupyter-widgets/controls"
          }
        },
        "bc96f77c421b45a385c6ec7e2ec99212": {
          "model_module": "@jupyter-widgets/base",
          "model_name": "LayoutModel",
          "state": {
            "_view_name": "LayoutView",
            "grid_template_rows": null,
            "right": null,
            "justify_content": null,
            "_view_module": "@jupyter-widgets/base",
            "overflow": null,
            "_model_module_version": "1.2.0",
            "_view_count": null,
            "flex_flow": null,
            "width": null,
            "min_width": null,
            "border": null,
            "align_items": null,
            "bottom": null,
            "_model_module": "@jupyter-widgets/base",
            "top": null,
            "grid_column": null,
            "overflow_y": null,
            "overflow_x": null,
            "grid_auto_flow": null,
            "grid_area": null,
            "grid_template_columns": null,
            "flex": null,
            "_model_name": "LayoutModel",
            "justify_items": null,
            "grid_row": null,
            "max_height": null,
            "align_content": null,
            "visibility": null,
            "align_self": null,
            "height": null,
            "min_height": null,
            "padding": null,
            "grid_auto_rows": null,
            "grid_gap": null,
            "max_width": null,
            "order": null,
            "_view_module_version": "1.2.0",
            "grid_template_areas": null,
            "object_position": null,
            "object_fit": null,
            "grid_auto_columns": null,
            "margin": null,
            "display": null,
            "left": null
          }
        },
        "eea1eb94bf594ac7b6eafa7e54ef8aca": {
          "model_module": "@jupyter-widgets/controls",
          "model_name": "DescriptionStyleModel",
          "state": {
            "_view_name": "StyleView",
            "_model_name": "DescriptionStyleModel",
            "description_width": "",
            "_view_module": "@jupyter-widgets/base",
            "_model_module_version": "1.5.0",
            "_view_count": null,
            "_view_module_version": "1.2.0",
            "_model_module": "@jupyter-widgets/controls"
          }
        },
        "4e9547c57ee340779c5b75b10a9cbfc7": {
          "model_module": "@jupyter-widgets/base",
          "model_name": "LayoutModel",
          "state": {
            "_view_name": "LayoutView",
            "grid_template_rows": null,
            "right": null,
            "justify_content": null,
            "_view_module": "@jupyter-widgets/base",
            "overflow": null,
            "_model_module_version": "1.2.0",
            "_view_count": null,
            "flex_flow": null,
            "width": null,
            "min_width": null,
            "border": null,
            "align_items": null,
            "bottom": null,
            "_model_module": "@jupyter-widgets/base",
            "top": null,
            "grid_column": null,
            "overflow_y": null,
            "overflow_x": null,
            "grid_auto_flow": null,
            "grid_area": null,
            "grid_template_columns": null,
            "flex": null,
            "_model_name": "LayoutModel",
            "justify_items": null,
            "grid_row": null,
            "max_height": null,
            "align_content": null,
            "visibility": null,
            "align_self": null,
            "height": null,
            "min_height": null,
            "padding": null,
            "grid_auto_rows": null,
            "grid_gap": null,
            "max_width": null,
            "order": null,
            "_view_module_version": "1.2.0",
            "grid_template_areas": null,
            "object_position": null,
            "object_fit": null,
            "grid_auto_columns": null,
            "margin": null,
            "display": null,
            "left": null
          }
        }
      }
    }
  },
  "cells": [
    {
      "cell_type": "markdown",
      "metadata": {
        "id": "view-in-github",
        "colab_type": "text"
      },
      "source": [
        "<a href=\"https://colab.research.google.com/github/seepala98/EVA-4/blob/master/PHASE_1/S7/FINAL_CIFAR_10_S7.ipynb\" target=\"_parent\"><img src=\"https://colab.research.google.com/assets/colab-badge.svg\" alt=\"Open In Colab\"/></a>"
      ]
    },
    {
      "cell_type": "markdown",
      "metadata": {
        "id": "Rg1ZVZ8xHEXI",
        "colab_type": "text"
      },
      "source": [
        "# Installing Packages\n",
        "The following packages need to be installed before running the code below\n",
        "- torchsummary"
      ]
    },
    {
      "cell_type": "code",
      "metadata": {
        "id": "zMOoKk0OHEqe",
        "colab_type": "code",
        "outputId": "6c2572aa-022b-4e8d-bc39-693e893ea11c",
        "colab": {
          "base_uri": "https://localhost:8080/",
          "height": 34
        }
      },
      "source": [
        "!pip install torchsummary"
      ],
      "execution_count": 1,
      "outputs": [
        {
          "output_type": "stream",
          "text": [
            "Requirement already satisfied: torchsummary in /usr/local/lib/python3.6/dist-packages (1.5.1)\n"
          ],
          "name": "stdout"
        }
      ]
    },
    {
      "cell_type": "markdown",
      "metadata": {
        "id": "aO-7t1Y7-hV4",
        "colab_type": "text"
      },
      "source": [
        "# Imports\n",
        "Importing necessary packages"
      ]
    },
    {
      "cell_type": "code",
      "metadata": {
        "id": "-yVpodAMpoCi",
        "colab_type": "code",
        "colab": {}
      },
      "source": [
        "%matplotlib inline\n",
        "\n",
        "import random\n",
        "import numpy as np\n",
        "import matplotlib.pyplot as plt\n",
        "import torch\n",
        "import torch.nn as nn\n",
        "import torch.nn.functional as F\n",
        "import torch.optim as optim\n",
        "import torchvision\n",
        "\n",
        "from tqdm import tqdm\n",
        "from torchvision import datasets, transforms\n",
        "from torchsummary import summary"
      ],
      "execution_count": 0,
      "outputs": []
    },
    {
      "cell_type": "markdown",
      "metadata": {
        "id": "OfOSzHr1GW2c",
        "colab_type": "text"
      },
      "source": [
        "# Dataset Preparation and Loading\n",
        "The following steps are performed for preparing the dataset for the model.\n",
        "- Downloading the CIFAR-10 dataset\n",
        "- Visualizing the dataset\n",
        "- Defining data transformations\n",
        "- Splitting the dataset into train and validation set\n",
        "- Creating data loader for train and validation set"
      ]
    },
    {
      "cell_type": "markdown",
      "metadata": {
        "id": "ffnfhydPLQk5",
        "colab_type": "text"
      },
      "source": [
        "## Data Visualization\n",
        "Let's see how our data looks like. This information will help us decide the transformations that can be used on the dataset."
      ]
    },
    {
      "cell_type": "code",
      "metadata": {
        "id": "Edyw8Zc-7tTN",
        "colab_type": "code",
        "outputId": "87262a48-11be-4360-aeec-026744a6bd84",
        "colab": {
          "base_uri": "https://localhost:8080/",
          "height": 230,
          "referenced_widgets": [
            "e3e5ed74a3f44cec9fe53b23c358ee78",
            "715673dd61e144e0927805251afb9b1a",
            "58fb413cb0dc479793809b27642d4d65",
            "c353a6a47fc34b389ed2724ee3aaa35f",
            "7cd5703c51c5445f87b2b4fbb890ca4f",
            "bc96f77c421b45a385c6ec7e2ec99212",
            "eea1eb94bf594ac7b6eafa7e54ef8aca",
            "4e9547c57ee340779c5b75b10a9cbfc7"
          ]
        }
      },
      "source": [
        "# Download data\n",
        "cifar_dataset = datasets.CIFAR10('./data', train=True, download=True)\n",
        "sample_data, sample_targets = cifar_dataset.data, cifar_dataset.targets\n",
        "\n",
        "# Define classes of CIFAR dataset\n",
        "classes = (\n",
        "    'plane', 'car', 'bird', 'cat', 'deer',\n",
        "    'dog', 'frog', 'horse', 'ship', 'truck'\n",
        ")\n",
        "\n",
        "# Set number of images to display\n",
        "num_images = 4\n",
        "\n",
        "# Display images with labels\n",
        "fig, axs = plt.subplots(1, 4, figsize=(8, 8))\n",
        "fig.tight_layout()\n",
        "\n",
        "for i in range(num_images):\n",
        "    axs[i].axis('off')\n",
        "    axs[i].set_title(f'Label: {classes[sample_targets[i]]}')\n",
        "    axs[i].imshow(sample_data[i])"
      ],
      "execution_count": 3,
      "outputs": [
        {
          "output_type": "stream",
          "text": [
            "Downloading https://www.cs.toronto.edu/~kriz/cifar-10-python.tar.gz to ./data/cifar-10-python.tar.gz\n"
          ],
          "name": "stdout"
        },
        {
          "output_type": "display_data",
          "data": {
            "application/vnd.jupyter.widget-view+json": {
              "model_id": "e3e5ed74a3f44cec9fe53b23c358ee78",
              "version_minor": 0,
              "version_major": 2
            },
            "text/plain": [
              "HBox(children=(IntProgress(value=1, bar_style='info', max=1), HTML(value='')))"
            ]
          },
          "metadata": {
            "tags": []
          }
        },
        {
          "output_type": "stream",
          "text": [
            "\n",
            "Extracting ./data/cifar-10-python.tar.gz to ./data\n"
          ],
          "name": "stdout"
        },
        {
          "output_type": "display_data",
          "data": {
            "image/png": "[encoded data removed]",
            "text/plain": [
              "<Figure size 576x576 with 4 Axes>"
            ]
          },
          "metadata": {
            "tags": []
          }
        }
      ]
    },
    {
      "cell_type": "markdown",
      "metadata": {
        "id": "grHT765783fO",
        "colab_type": "text"
      },
      "source": [
        "## Data Transformations\n",
        "\n",
        "The following transformations will be used\n",
        "- ToTensor\n",
        "- Normalize"
      ]
    },
    {
      "cell_type": "code",
      "metadata": {
        "id": "0-UET4VS95VS",
        "colab_type": "code",
        "colab": {}
      },
      "source": [
        "# Train phase transformations\n",
        "train_transforms = transforms.Compose([\n",
        "    # convert the data to torch.FloatTensor with values within the range [0.0 ,1.0]\n",
        "    transforms.ToTensor(),\n",
        "\n",
        "    # normalize the data with mean and standard deviation to keep values in range [-1, 1]\n",
        "    # since there are 3 channels for each image,\n",
        "    # we have to specify mean and std for each channel\n",
        "    transforms.Normalize((0.5, 0.5, 0.5), (0.5, 0.5, 0.5))\n",
        "])\n",
        "\n",
        "# Validation phase transformations\n",
        "val_transforms = transforms.Compose([\n",
        "    transforms.ToTensor(),\n",
        "    transforms.Normalize((0.5, 0.5, 0.5), (0.5, 0.5, 0.5))\n",
        "])"
      ],
      "execution_count": 0,
      "outputs": []
    },
    {
      "cell_type": "markdown",
      "metadata": {
        "id": "1g-Wd56S-3tg",
        "colab_type": "text"
      },
      "source": [
        "## Train Data and Validation Data Split\n",
        "The data is downloaded and split into two sets: train and validation"
      ]
    },
    {
      "cell_type": "code",
      "metadata": {
        "id": "uCy5S8Vw-cN2",
        "colab_type": "code",
        "outputId": "deafe7e7-1124-4a9d-8fc9-ffd888d52760",
        "colab": {
          "base_uri": "https://localhost:8080/",
          "height": 51
        }
      },
      "source": [
        "train_data = datasets.CIFAR10('./data', train=True, download=True, transform=train_transforms)\n",
        "val_data = datasets.CIFAR10('./data', train=False, download=True, transform=val_transforms)"
      ],
      "execution_count": 5,
      "outputs": [
        {
          "output_type": "stream",
          "text": [
            "Files already downloaded and verified\n",
            "Files already downloaded and verified\n"
          ],
          "name": "stdout"
        }
      ]
    },
    {
      "cell_type": "markdown",
      "metadata": {
        "id": "qFcWRAeY_MsB",
        "colab_type": "text"
      },
      "source": [
        "## Training and Validation Dataloaders\n",
        "This is the final step in data preparation. It sets the dataloader arguments and then creates the dataloader"
      ]
    },
    {
      "cell_type": "code",
      "metadata": {
        "id": "D8Tjigo2poCl",
        "colab_type": "code",
        "outputId": "39339df6-7bd3-41c2-d594-97c7fc2a6f6c",
        "colab": {
          "base_uri": "https://localhost:8080/",
          "height": 34
        }
      },
      "source": [
        "SEED = 1\n",
        "\n",
        "cuda = torch.cuda.is_available()\n",
        "print('CUDA Available?', cuda)\n",
        "\n",
        "# For reproducibility of results\n",
        "torch.manual_seed(SEED)\n",
        "if cuda:\n",
        "    torch.cuda.manual_seed(SEED)\n",
        "\n",
        "# dataloader arguments\n",
        "dataloader_args = dict(shuffle=True, batch_size=128, num_workers=4, pin_memory=True) if cuda else dict(shuffle=True, batch_size=64, num_workers=2)\n",
        "\n",
        "# train dataloader\n",
        "train_loader = torch.utils.data.DataLoader(train_data, **dataloader_args)\n",
        "\n",
        "# validation dataloader\n",
        "val_loader = torch.utils.data.DataLoader(val_data, **dataloader_args)"
      ],
      "execution_count": 6,
      "outputs": [
        {
          "output_type": "stream",
          "text": [
            "CUDA Available? True\n"
          ],
          "name": "stdout"
        }
      ]
    },
    {
      "cell_type": "markdown",
      "metadata": {
        "id": "HSeDIqBq-6pC",
        "colab_type": "text"
      },
      "source": [
        "# Model Architecture\n",
        "Designing the model structure"
      ]
    },
    {
      "cell_type": "code",
      "metadata": {
        "id": "K1NZ7kqezHG7",
        "colab_type": "code",
        "colab": {}
      },
      "source": [
        "class Net(nn.Module):\n",
        "    def __init__(self):\n",
        "        \"\"\" This function instantiates all the model layers \"\"\"\n",
        "        super(Net, self).__init__()\n",
        "\n",
        "        dropout_rate = 0.05\n",
        "\n",
        "        self.convblock1 = nn.Sequential(\n",
        "            nn.Conv2d(in_channels=3, out_channels=32, kernel_size=3, padding=1),  # 32,3 | 32,32 | 3x3\n",
        "            nn.ReLU(),\n",
        "            nn.BatchNorm2d(32),\n",
        "            nn.Dropout(dropout_rate),\n",
        "\n",
        "            nn.Conv2d(in_channels=32, out_channels=64, kernel_size=3, padding=1),  # 32,32 | 32,64 | 5x5\n",
        "            nn.ReLU(),\n",
        "            nn.BatchNorm2d(64),\n",
        "            nn.Dropout(dropout_rate)\n",
        "        )\n",
        "\n",
        "        self.transblock1 = nn.Sequential(\n",
        "            nn.MaxPool2d(2, 2),  # 32,64 | 16,64 | 6x6\n",
        "            nn.Conv2d(in_channels=64, out_channels=32, kernel_size=1)  # 16,64 | 16,32 | 6x6\n",
        "        )\n",
        "\n",
        "        self.convblock2 = nn.Sequential(\n",
        "            nn.Conv2d(in_channels=32, out_channels=32, kernel_size=3, padding=1),  # 16,32 | 16,32 | 10x10\n",
        "            nn.ReLU(),\n",
        "            nn.BatchNorm2d(32),\n",
        "            nn.Dropout(dropout_rate),\n",
        "\n",
        "            nn.Conv2d(in_channels=32, out_channels=64, kernel_size=3, padding=1),  # 16,32 | 16,64 | 14x14\n",
        "            nn.ReLU(),\n",
        "            nn.BatchNorm2d(64),\n",
        "            nn.Dropout(dropout_rate)\n",
        "        )\n",
        "\n",
        "        self.transblock2 = nn.Sequential(\n",
        "            nn.MaxPool2d(2, 2),  # 16,64 | 8,64 | 16x16\n",
        "            nn.Conv2d(in_channels=64, out_channels=32, kernel_size=1)  # 8,64 | 8,32 | 16x16\n",
        "        )\n",
        "\n",
        "        self.convblock3 = nn.Sequential(\n",
        "            nn.Conv2d(in_channels=32, out_channels=32, kernel_size=3, padding=1),  # 8,32 | 8,2 | 24x24\n",
        "            nn.ReLU(),\n",
        "            nn.BatchNorm2d(32),\n",
        "            nn.Dropout(dropout_rate),\n",
        "\n",
        "            # Depthwise separable convolution\n",
        "            nn.Conv2d(in_channels=32, out_channels=32, kernel_size=3, groups=32, padding=1),  # 8,32 | 8,32 | 32x32\n",
        "            nn.Conv2d(in_channels=32, out_channels=64, kernel_size=1),  # 8,32 | 8,64 | 32x32\n",
        "            nn.ReLU(),\n",
        "            nn.BatchNorm2d(64),\n",
        "            nn.Dropout(dropout_rate)\n",
        "        )\n",
        "\n",
        "        self.transblock3 = nn.Sequential(\n",
        "            nn.MaxPool2d(2, 2),  # 8,64 | 4,64 | 36x36\n",
        "            nn.Conv2d(in_channels=64, out_channels=32, kernel_size=1)  # 4x,4 | 4,32 | 36x36\n",
        "        )\n",
        "\n",
        "        self.convblock4 = nn.Sequential(\n",
        "            nn.Conv2d(in_channels=32, out_channels=32, kernel_size=3, padding=1),  # 4,32 | 4,32 | 52x52\n",
        "            nn.ReLU(),\n",
        "            nn.BatchNorm2d(32),\n",
        "            nn.Dropout(dropout_rate),\n",
        "\n",
        "            # Dilated convolution\n",
        "            nn.Conv2d(in_channels=32, out_channels=64, kernel_size=3, padding=1, dilation=2),  # 4,32 | 4,64 | 84x84\n",
        "            nn.ReLU(),\n",
        "            nn.BatchNorm2d(64),\n",
        "            nn.Dropout(dropout_rate)\n",
        "        )\n",
        "\n",
        "        self.gap = nn.Sequential(\n",
        "            nn.AdaptiveAvgPool2d(1)\n",
        "        )  # 4,64 | 1,64\n",
        "\n",
        "        self.fc = nn.Sequential(\n",
        "            nn.Linear(64, 10)\n",
        "        )\n",
        "    \n",
        "    def forward(self, x):\n",
        "        \"\"\" This function defines the network structure \"\"\"\n",
        "        x = self.convblock1(x)\n",
        "        x = self.transblock1(x)\n",
        "        x = self.convblock2(x)\n",
        "        x = self.transblock2(x)\n",
        "        x = self.convblock3(x)\n",
        "        x = self.transblock3(x)\n",
        "        x = self.convblock4(x)\n",
        "        x = self.gap(x)\n",
        "        x = x.view(-1, 64)\n",
        "        x = self.fc(x)\n",
        "        return x"
      ],
      "execution_count": 0,
      "outputs": []
    },
    {
      "cell_type": "code",
      "metadata": {
        "id": "evKYo2HpQTQ4",
        "colab_type": "code",
        "outputId": "6cfef485-b499-4ef8-8115-709629a8ed73",
        "colab": {
          "base_uri": "https://localhost:8080/",
          "height": 935
        }
      },
      "source": [
        "device = torch.device(\"cuda\" if cuda else \"cpu\")\n",
        "model = Net().to(device)\n",
        "summary(model, input_size=(3, 32, 32))"
      ],
      "execution_count": 8,
      "outputs": [
        {
          "output_type": "stream",
          "text": [
            "----------------------------------------------------------------\n",
            "        Layer (type)               Output Shape         Param #\n",
            "================================================================\n",
            "            Conv2d-1           [-1, 32, 32, 32]             896\n",
            "              ReLU-2           [-1, 32, 32, 32]               0\n",
            "       BatchNorm2d-3           [-1, 32, 32, 32]              64\n",
            "           Dropout-4           [-1, 32, 32, 32]               0\n",
            "            Conv2d-5           [-1, 64, 32, 32]          18,496\n",
            "              ReLU-6           [-1, 64, 32, 32]               0\n",
            "       BatchNorm2d-7           [-1, 64, 32, 32]             128\n",
            "           Dropout-8           [-1, 64, 32, 32]               0\n",
            "         MaxPool2d-9           [-1, 64, 16, 16]               0\n",
            "           Conv2d-10           [-1, 32, 16, 16]           2,080\n",
            "           Conv2d-11           [-1, 32, 16, 16]           9,248\n",
            "             ReLU-12           [-1, 32, 16, 16]               0\n",
            "      BatchNorm2d-13           [-1, 32, 16, 16]              64\n",
            "          Dropout-14           [-1, 32, 16, 16]               0\n",
            "           Conv2d-15           [-1, 64, 16, 16]          18,496\n",
            "             ReLU-16           [-1, 64, 16, 16]               0\n",
            "      BatchNorm2d-17           [-1, 64, 16, 16]             128\n",
            "          Dropout-18           [-1, 64, 16, 16]               0\n",
            "        MaxPool2d-19             [-1, 64, 8, 8]               0\n",
            "           Conv2d-20             [-1, 32, 8, 8]           2,080\n",
            "           Conv2d-21             [-1, 32, 8, 8]           9,248\n",
            "             ReLU-22             [-1, 32, 8, 8]               0\n",
            "      BatchNorm2d-23             [-1, 32, 8, 8]              64\n",
            "          Dropout-24             [-1, 32, 8, 8]               0\n",
            "           Conv2d-25             [-1, 32, 8, 8]             320\n",
            "           Conv2d-26             [-1, 64, 8, 8]           2,112\n",
            "             ReLU-27             [-1, 64, 8, 8]               0\n",
            "      BatchNorm2d-28             [-1, 64, 8, 8]             128\n",
            "          Dropout-29             [-1, 64, 8, 8]               0\n",
            "        MaxPool2d-30             [-1, 64, 4, 4]               0\n",
            "           Conv2d-31             [-1, 32, 4, 4]           2,080\n",
            "           Conv2d-32             [-1, 32, 4, 4]           9,248\n",
            "             ReLU-33             [-1, 32, 4, 4]               0\n",
            "      BatchNorm2d-34             [-1, 32, 4, 4]              64\n",
            "          Dropout-35             [-1, 32, 4, 4]               0\n",
            "           Conv2d-36             [-1, 64, 2, 2]          18,496\n",
            "             ReLU-37             [-1, 64, 2, 2]               0\n",
            "      BatchNorm2d-38             [-1, 64, 2, 2]             128\n",
            "          Dropout-39             [-1, 64, 2, 2]               0\n",
            "AdaptiveAvgPool2d-40             [-1, 64, 1, 1]               0\n",
            "           Linear-41                   [-1, 10]             650\n",
            "================================================================\n",
            "Total params: 94,218\n",
            "Trainable params: 94,218\n",
            "Non-trainable params: 0\n",
            "----------------------------------------------------------------\n",
            "Input size (MB): 0.01\n",
            "Forward/backward pass size (MB): 4.22\n",
            "Params size (MB): 0.36\n",
            "Estimated Total Size (MB): 4.59\n",
            "----------------------------------------------------------------\n"
          ],
          "name": "stdout"
        }
      ]
    },
    {
      "cell_type": "markdown",
      "metadata": {
        "id": "HcyKrcQEGcdp",
        "colab_type": "text"
      },
      "source": [
        "# Model Training and Validation"
      ]
    },
    {
      "cell_type": "markdown",
      "metadata": {
        "id": "D2VZKTTi_FJx",
        "colab_type": "text"
      },
      "source": [
        "Function for model training"
      ]
    },
    {
      "cell_type": "code",
      "metadata": {
        "id": "ASwUz3kZhrLS",
        "colab_type": "code",
        "colab": {}
      },
      "source": [
        "def train(model, train_loader, device, optimizer, criterion):\n",
        "    model.train()\n",
        "    pbar = tqdm(train_loader)\n",
        "    correct = 0\n",
        "    processed = 0\n",
        "    for batch_idx, (data, target) in enumerate(pbar, 0):\n",
        "        # Get samples\n",
        "        data, target = data.to(device), target.to(device)\n",
        "\n",
        "        # Set gradients to zero before starting backpropagation\n",
        "        optimizer.zero_grad()\n",
        "\n",
        "        # Predict output\n",
        "        y_pred = model(data)\n",
        "\n",
        "        # Calculate loss\n",
        "        loss = criterion(y_pred, target)\n",
        "\n",
        "        # Perform backpropagation\n",
        "        loss.backward()\n",
        "        optimizer.step()\n",
        "\n",
        "        # Update progress bar\n",
        "        pred = y_pred.argmax(dim=1, keepdim=False)\n",
        "        correct += pred.eq(target).sum().item()\n",
        "        processed += len(data)\n",
        "        pbar.set_description(desc=f'Loss={loss.item():0.2f} Batch ID={batch_idx} Accuracy={(100 * correct / processed):.2f}')"
      ],
      "execution_count": 0,
      "outputs": []
    },
    {
      "cell_type": "markdown",
      "metadata": {
        "id": "EC1kZAnj_NbJ",
        "colab_type": "text"
      },
      "source": [
        "Function for model validation"
      ]
    },
    {
      "cell_type": "code",
      "metadata": {
        "id": "L64n8x43puo2",
        "colab_type": "code",
        "colab": {}
      },
      "source": [
        "def val(model, val_loader, device, criterion, losses, accuracies):\n",
        "    model.eval()\n",
        "    correct = 0\n",
        "    val_loss = 0\n",
        "    with torch.no_grad():\n",
        "        for data, target in val_loader:\n",
        "            img_batch = data  # This is done to keep data in CPU\n",
        "            data, target = data.to(device), target.to(device)  # Get samples\n",
        "            output = model(data)  # Get trained model output\n",
        "            val_loss += criterion(output, target).item()  # Sum up batch loss\n",
        "            pred = output.argmax(dim=1, keepdim=False)  # Get the index of the max log-probability\n",
        "\n",
        "            correct += pred.eq(target).sum().item()\n",
        "    \n",
        "    val_loss /= len(val_loader.dataset)\n",
        "    losses.append(val_loss)\n",
        "    accuracies.append(100. * correct / len(val_loader.dataset))\n",
        "    print(f'\\nValidation set: Average loss: {val_loss:.4f}, Accuracy: {correct}/{len(val_loader.dataset)} ({accuracies[-1]:.2f}%)\\n')"
      ],
      "execution_count": 0,
      "outputs": []
    },
    {
      "cell_type": "markdown",
      "metadata": {
        "id": "bpxs5bnkARdS",
        "colab_type": "text"
      },
      "source": [
        "Function for model execution"
      ]
    },
    {
      "cell_type": "code",
      "metadata": {
        "id": "Pk83iZb2uaEA",
        "colab_type": "code",
        "outputId": "566a513b-9de5-4ab7-fc37-6e62289df038",
        "colab": {
          "base_uri": "https://localhost:8080/",
          "height": 1000
        }
      },
      "source": [
        "losses = []\n",
        "accuracies = []\n",
        "\n",
        "model = Net().to(device)\n",
        "criterion = nn.CrossEntropyLoss()\n",
        "optimizer = optim.SGD(model.parameters(), lr=0.01, momentum=0.95)\n",
        "epochs = 50\n",
        "\n",
        "for epoch in range(1, epochs + 1):\n",
        "    print(f'Epoch {epoch}:')\n",
        "    train(model, train_loader, device, optimizer, criterion)\n",
        "    val(model, val_loader, device, criterion, losses, accuracies)"
      ],
      "execution_count": 11,
      "outputs": [
        {
          "output_type": "stream",
          "text": [
            "\r  0%|          | 0/391 [00:00<?, ?it/s]"
          ],
          "name": "stderr"
        },
        {
          "output_type": "stream",
          "text": [
            "Epoch 1:\n"
          ],
          "name": "stdout"
        },
        {
          "output_type": "stream",
          "text": [
            "Loss=1.28 Batch ID=390 Accuracy=49.06: 100%|██████████| 391/391 [00:14<00:00, 27.69it/s]\n",
            "  0%|          | 0/391 [00:00<?, ?it/s]"
          ],
          "name": "stderr"
        },
        {
          "output_type": "stream",
          "text": [
            "\n",
            "Validation set: Average loss: 0.0086, Accuracy: 6121/10000 (61.21%)\n",
            "\n",
            "Epoch 2:\n"
          ],
          "name": "stdout"
        },
        {
          "output_type": "stream",
          "text": [
            "Loss=1.03 Batch ID=390 Accuracy=64.88: 100%|██████████| 391/391 [00:13<00:00, 28.22it/s]\n",
            "  0%|          | 0/391 [00:00<?, ?it/s]"
          ],
          "name": "stderr"
        },
        {
          "output_type": "stream",
          "text": [
            "\n",
            "Validation set: Average loss: 0.0071, Accuracy: 6874/10000 (68.74%)\n",
            "\n",
            "Epoch 3:\n"
          ],
          "name": "stdout"
        },
        {
          "output_type": "stream",
          "text": [
            "Loss=0.88 Batch ID=390 Accuracy=70.65: 100%|██████████| 391/391 [00:13<00:00, 28.04it/s]\n",
            "  0%|          | 0/391 [00:00<?, ?it/s]"
          ],
          "name": "stderr"
        },
        {
          "output_type": "stream",
          "text": [
            "\n",
            "Validation set: Average loss: 0.0062, Accuracy: 7270/10000 (72.70%)\n",
            "\n",
            "Epoch 4:\n"
          ],
          "name": "stdout"
        },
        {
          "output_type": "stream",
          "text": [
            "Loss=0.64 Batch ID=390 Accuracy=74.44: 100%|██████████| 391/391 [00:13<00:00, 28.52it/s]\n",
            "  0%|          | 0/391 [00:00<?, ?it/s]"
          ],
          "name": "stderr"
        },
        {
          "output_type": "stream",
          "text": [
            "\n",
            "Validation set: Average loss: 0.0058, Accuracy: 7449/10000 (74.49%)\n",
            "\n",
            "Epoch 5:\n"
          ],
          "name": "stdout"
        },
        {
          "output_type": "stream",
          "text": [
            "Loss=0.55 Batch ID=390 Accuracy=77.13: 100%|██████████| 391/391 [00:14<00:00, 27.92it/s]\n",
            "  0%|          | 0/391 [00:00<?, ?it/s]"
          ],
          "name": "stderr"
        },
        {
          "output_type": "stream",
          "text": [
            "\n",
            "Validation set: Average loss: 0.0056, Accuracy: 7521/10000 (75.21%)\n",
            "\n",
            "Epoch 6:\n"
          ],
          "name": "stdout"
        },
        {
          "output_type": "stream",
          "text": [
            "Loss=0.55 Batch ID=390 Accuracy=78.87: 100%|██████████| 391/391 [00:13<00:00, 28.17it/s]\n",
            "  0%|          | 0/391 [00:00<?, ?it/s]"
          ],
          "name": "stderr"
        },
        {
          "output_type": "stream",
          "text": [
            "\n",
            "Validation set: Average loss: 0.0051, Accuracy: 7758/10000 (77.58%)\n",
            "\n",
            "Epoch 7:\n"
          ],
          "name": "stdout"
        },
        {
          "output_type": "stream",
          "text": [
            "Loss=0.63 Batch ID=390 Accuracy=80.05: 100%|██████████| 391/391 [00:13<00:00, 29.05it/s]\n",
            "  0%|          | 0/391 [00:00<?, ?it/s]"
          ],
          "name": "stderr"
        },
        {
          "output_type": "stream",
          "text": [
            "\n",
            "Validation set: Average loss: 0.0048, Accuracy: 7896/10000 (78.96%)\n",
            "\n",
            "Epoch 8:\n"
          ],
          "name": "stdout"
        },
        {
          "output_type": "stream",
          "text": [
            "Loss=0.48 Batch ID=390 Accuracy=81.21: 100%|██████████| 391/391 [00:13<00:00, 28.64it/s]\n",
            "  0%|          | 0/391 [00:00<?, ?it/s]"
          ],
          "name": "stderr"
        },
        {
          "output_type": "stream",
          "text": [
            "\n",
            "Validation set: Average loss: 0.0047, Accuracy: 7901/10000 (79.01%)\n",
            "\n",
            "Epoch 9:\n"
          ],
          "name": "stdout"
        },
        {
          "output_type": "stream",
          "text": [
            "Loss=0.28 Batch ID=390 Accuracy=82.47: 100%|██████████| 391/391 [00:13<00:00, 28.34it/s]\n",
            "  0%|          | 0/391 [00:00<?, ?it/s]"
          ],
          "name": "stderr"
        },
        {
          "output_type": "stream",
          "text": [
            "\n",
            "Validation set: Average loss: 0.0047, Accuracy: 7985/10000 (79.85%)\n",
            "\n",
            "Epoch 10:\n"
          ],
          "name": "stdout"
        },
        {
          "output_type": "stream",
          "text": [
            "Loss=0.45 Batch ID=390 Accuracy=83.38: 100%|██████████| 391/391 [00:13<00:00, 28.58it/s]\n",
            "  0%|          | 0/391 [00:00<?, ?it/s]"
          ],
          "name": "stderr"
        },
        {
          "output_type": "stream",
          "text": [
            "\n",
            "Validation set: Average loss: 0.0045, Accuracy: 8076/10000 (80.76%)\n",
            "\n",
            "Epoch 11:\n"
          ],
          "name": "stdout"
        },
        {
          "output_type": "stream",
          "text": [
            "Loss=0.58 Batch ID=390 Accuracy=83.86: 100%|██████████| 391/391 [00:13<00:00, 29.11it/s]\n",
            "  0%|          | 0/391 [00:00<?, ?it/s]"
          ],
          "name": "stderr"
        },
        {
          "output_type": "stream",
          "text": [
            "\n",
            "Validation set: Average loss: 0.0044, Accuracy: 8120/10000 (81.20%)\n",
            "\n",
            "Epoch 12:\n"
          ],
          "name": "stdout"
        },
        {
          "output_type": "stream",
          "text": [
            "Loss=0.68 Batch ID=390 Accuracy=84.60: 100%|██████████| 391/391 [00:13<00:00, 28.40it/s]\n",
            "  0%|          | 0/391 [00:00<?, ?it/s]"
          ],
          "name": "stderr"
        },
        {
          "output_type": "stream",
          "text": [
            "\n",
            "Validation set: Average loss: 0.0047, Accuracy: 7978/10000 (79.78%)\n",
            "\n",
            "Epoch 13:\n"
          ],
          "name": "stdout"
        },
        {
          "output_type": "stream",
          "text": [
            "Loss=0.66 Batch ID=390 Accuracy=85.00: 100%|██████████| 391/391 [00:14<00:00, 27.79it/s]\n",
            "  0%|          | 0/391 [00:00<?, ?it/s]"
          ],
          "name": "stderr"
        },
        {
          "output_type": "stream",
          "text": [
            "\n",
            "Validation set: Average loss: 0.0044, Accuracy: 8108/10000 (81.08%)\n",
            "\n",
            "Epoch 14:\n"
          ],
          "name": "stdout"
        },
        {
          "output_type": "stream",
          "text": [
            "Loss=0.32 Batch ID=390 Accuracy=85.57: 100%|██████████| 391/391 [00:13<00:00, 34.65it/s]\n",
            "  0%|          | 0/391 [00:00<?, ?it/s]"
          ],
          "name": "stderr"
        },
        {
          "output_type": "stream",
          "text": [
            "\n",
            "Validation set: Average loss: 0.0043, Accuracy: 8191/10000 (81.91%)\n",
            "\n",
            "Epoch 15:\n"
          ],
          "name": "stdout"
        },
        {
          "output_type": "stream",
          "text": [
            "Loss=0.43 Batch ID=390 Accuracy=86.55: 100%|██████████| 391/391 [00:13<00:00, 34.41it/s]\n",
            "  0%|          | 0/391 [00:00<?, ?it/s]"
          ],
          "name": "stderr"
        },
        {
          "output_type": "stream",
          "text": [
            "\n",
            "Validation set: Average loss: 0.0045, Accuracy: 8148/10000 (81.48%)\n",
            "\n",
            "Epoch 16:\n"
          ],
          "name": "stdout"
        },
        {
          "output_type": "stream",
          "text": [
            "Loss=0.21 Batch ID=390 Accuracy=86.72: 100%|██████████| 391/391 [00:13<00:00, 29.47it/s]\n",
            "  0%|          | 0/391 [00:00<?, ?it/s]"
          ],
          "name": "stderr"
        },
        {
          "output_type": "stream",
          "text": [
            "\n",
            "Validation set: Average loss: 0.0042, Accuracy: 8216/10000 (82.16%)\n",
            "\n",
            "Epoch 17:\n"
          ],
          "name": "stdout"
        },
        {
          "output_type": "stream",
          "text": [
            "Loss=0.48 Batch ID=390 Accuracy=87.10: 100%|██████████| 391/391 [00:13<00:00, 28.86it/s]\n",
            "  0%|          | 0/391 [00:00<?, ?it/s]"
          ],
          "name": "stderr"
        },
        {
          "output_type": "stream",
          "text": [
            "\n",
            "Validation set: Average loss: 0.0043, Accuracy: 8240/10000 (82.40%)\n",
            "\n",
            "Epoch 18:\n"
          ],
          "name": "stdout"
        },
        {
          "output_type": "stream",
          "text": [
            "Loss=0.48 Batch ID=390 Accuracy=87.59: 100%|██████████| 391/391 [00:13<00:00, 32.38it/s]\n",
            "  0%|          | 0/391 [00:00<?, ?it/s]"
          ],
          "name": "stderr"
        },
        {
          "output_type": "stream",
          "text": [
            "\n",
            "Validation set: Average loss: 0.0044, Accuracy: 8154/10000 (81.54%)\n",
            "\n",
            "Epoch 19:\n"
          ],
          "name": "stdout"
        },
        {
          "output_type": "stream",
          "text": [
            "Loss=0.44 Batch ID=390 Accuracy=87.97: 100%|██████████| 391/391 [00:13<00:00, 28.56it/s]\n",
            "  0%|          | 0/391 [00:00<?, ?it/s]"
          ],
          "name": "stderr"
        },
        {
          "output_type": "stream",
          "text": [
            "\n",
            "Validation set: Average loss: 0.0043, Accuracy: 8230/10000 (82.30%)\n",
            "\n",
            "Epoch 20:\n"
          ],
          "name": "stdout"
        },
        {
          "output_type": "stream",
          "text": [
            "Loss=0.32 Batch ID=390 Accuracy=88.27: 100%|██████████| 391/391 [00:14<00:00, 27.62it/s]\n",
            "  0%|          | 0/391 [00:00<?, ?it/s]"
          ],
          "name": "stderr"
        },
        {
          "output_type": "stream",
          "text": [
            "\n",
            "Validation set: Average loss: 0.0043, Accuracy: 8279/10000 (82.79%)\n",
            "\n",
            "Epoch 21:\n"
          ],
          "name": "stdout"
        },
        {
          "output_type": "stream",
          "text": [
            "Loss=0.40 Batch ID=390 Accuracy=88.50: 100%|██████████| 391/391 [00:13<00:00, 28.92it/s]\n",
            "  0%|          | 0/391 [00:00<?, ?it/s]"
          ],
          "name": "stderr"
        },
        {
          "output_type": "stream",
          "text": [
            "\n",
            "Validation set: Average loss: 0.0043, Accuracy: 8242/10000 (82.42%)\n",
            "\n",
            "Epoch 22:\n"
          ],
          "name": "stdout"
        },
        {
          "output_type": "stream",
          "text": [
            "Loss=0.44 Batch ID=390 Accuracy=88.74: 100%|██████████| 391/391 [00:13<00:00, 34.04it/s]\n",
            "  0%|          | 0/391 [00:00<?, ?it/s]"
          ],
          "name": "stderr"
        },
        {
          "output_type": "stream",
          "text": [
            "\n",
            "Validation set: Average loss: 0.0043, Accuracy: 8250/10000 (82.50%)\n",
            "\n",
            "Epoch 23:\n"
          ],
          "name": "stdout"
        },
        {
          "output_type": "stream",
          "text": [
            "Loss=0.37 Batch ID=390 Accuracy=89.19: 100%|██████████| 391/391 [00:13<00:00, 29.19it/s]\n",
            "  0%|          | 0/391 [00:00<?, ?it/s]"
          ],
          "name": "stderr"
        },
        {
          "output_type": "stream",
          "text": [
            "\n",
            "Validation set: Average loss: 0.0044, Accuracy: 8243/10000 (82.43%)\n",
            "\n",
            "Epoch 24:\n"
          ],
          "name": "stdout"
        },
        {
          "output_type": "stream",
          "text": [
            "Loss=0.47 Batch ID=390 Accuracy=89.30: 100%|██████████| 391/391 [00:13<00:00, 28.09it/s]\n",
            "  0%|          | 0/391 [00:00<?, ?it/s]"
          ],
          "name": "stderr"
        },
        {
          "output_type": "stream",
          "text": [
            "\n",
            "Validation set: Average loss: 0.0042, Accuracy: 8306/10000 (83.06%)\n",
            "\n",
            "Epoch 25:\n"
          ],
          "name": "stdout"
        },
        {
          "output_type": "stream",
          "text": [
            "Loss=0.27 Batch ID=390 Accuracy=89.67: 100%|██████████| 391/391 [00:13<00:00, 29.20it/s]\n",
            "  0%|          | 0/391 [00:00<?, ?it/s]"
          ],
          "name": "stderr"
        },
        {
          "output_type": "stream",
          "text": [
            "\n",
            "Validation set: Average loss: 0.0042, Accuracy: 8295/10000 (82.95%)\n",
            "\n",
            "Epoch 26:\n"
          ],
          "name": "stdout"
        },
        {
          "output_type": "stream",
          "text": [
            "Loss=0.39 Batch ID=390 Accuracy=90.01: 100%|██████████| 391/391 [00:13<00:00, 28.27it/s]\n",
            "  0%|          | 0/391 [00:00<?, ?it/s]"
          ],
          "name": "stderr"
        },
        {
          "output_type": "stream",
          "text": [
            "\n",
            "Validation set: Average loss: 0.0043, Accuracy: 8296/10000 (82.96%)\n",
            "\n",
            "Epoch 27:\n"
          ],
          "name": "stdout"
        },
        {
          "output_type": "stream",
          "text": [
            "Loss=0.22 Batch ID=390 Accuracy=90.27: 100%|██████████| 391/391 [00:13<00:00, 28.81it/s]\n",
            "  0%|          | 0/391 [00:00<?, ?it/s]"
          ],
          "name": "stderr"
        },
        {
          "output_type": "stream",
          "text": [
            "\n",
            "Validation set: Average loss: 0.0044, Accuracy: 8289/10000 (82.89%)\n",
            "\n",
            "Epoch 28:\n"
          ],
          "name": "stdout"
        },
        {
          "output_type": "stream",
          "text": [
            "Loss=0.26 Batch ID=390 Accuracy=90.27: 100%|██████████| 391/391 [00:13<00:00, 28.01it/s]\n",
            "  0%|          | 0/391 [00:00<?, ?it/s]"
          ],
          "name": "stderr"
        },
        {
          "output_type": "stream",
          "text": [
            "\n",
            "Validation set: Average loss: 0.0043, Accuracy: 8303/10000 (83.03%)\n",
            "\n",
            "Epoch 29:\n"
          ],
          "name": "stdout"
        },
        {
          "output_type": "stream",
          "text": [
            "Loss=0.21 Batch ID=390 Accuracy=90.56: 100%|██████████| 391/391 [00:13<00:00, 28.27it/s]\n",
            "  0%|          | 0/391 [00:00<?, ?it/s]"
          ],
          "name": "stderr"
        },
        {
          "output_type": "stream",
          "text": [
            "\n",
            "Validation set: Average loss: 0.0044, Accuracy: 8291/10000 (82.91%)\n",
            "\n",
            "Epoch 30:\n"
          ],
          "name": "stdout"
        },
        {
          "output_type": "stream",
          "text": [
            "Loss=0.31 Batch ID=390 Accuracy=90.92: 100%|██████████| 391/391 [00:13<00:00, 33.66it/s]\n",
            "  0%|          | 0/391 [00:00<?, ?it/s]"
          ],
          "name": "stderr"
        },
        {
          "output_type": "stream",
          "text": [
            "\n",
            "Validation set: Average loss: 0.0043, Accuracy: 8358/10000 (83.58%)\n",
            "\n",
            "Epoch 31:\n"
          ],
          "name": "stdout"
        },
        {
          "output_type": "stream",
          "text": [
            "Loss=0.28 Batch ID=390 Accuracy=90.86: 100%|██████████| 391/391 [00:13<00:00, 28.67it/s]\n",
            "  0%|          | 0/391 [00:00<?, ?it/s]"
          ],
          "name": "stderr"
        },
        {
          "output_type": "stream",
          "text": [
            "\n",
            "Validation set: Average loss: 0.0045, Accuracy: 8240/10000 (82.40%)\n",
            "\n",
            "Epoch 32:\n"
          ],
          "name": "stdout"
        },
        {
          "output_type": "stream",
          "text": [
            "Loss=0.23 Batch ID=390 Accuracy=91.42: 100%|██████████| 391/391 [00:14<00:00, 27.44it/s]\n",
            "  0%|          | 0/391 [00:00<?, ?it/s]"
          ],
          "name": "stderr"
        },
        {
          "output_type": "stream",
          "text": [
            "\n",
            "Validation set: Average loss: 0.0043, Accuracy: 8323/10000 (83.23%)\n",
            "\n",
            "Epoch 33:\n"
          ],
          "name": "stdout"
        },
        {
          "output_type": "stream",
          "text": [
            "Loss=0.42 Batch ID=390 Accuracy=91.54: 100%|██████████| 391/391 [00:13<00:00, 32.65it/s]\n",
            "  0%|          | 0/391 [00:00<?, ?it/s]"
          ],
          "name": "stderr"
        },
        {
          "output_type": "stream",
          "text": [
            "\n",
            "Validation set: Average loss: 0.0042, Accuracy: 8355/10000 (83.55%)\n",
            "\n",
            "Epoch 34:\n"
          ],
          "name": "stdout"
        },
        {
          "output_type": "stream",
          "text": [
            "Loss=0.23 Batch ID=390 Accuracy=91.69: 100%|██████████| 391/391 [00:13<00:00, 29.20it/s]\n",
            "  0%|          | 0/391 [00:00<?, ?it/s]"
          ],
          "name": "stderr"
        },
        {
          "output_type": "stream",
          "text": [
            "\n",
            "Validation set: Average loss: 0.0044, Accuracy: 8356/10000 (83.56%)\n",
            "\n",
            "Epoch 35:\n"
          ],
          "name": "stdout"
        },
        {
          "output_type": "stream",
          "text": [
            "Loss=0.25 Batch ID=390 Accuracy=91.76: 100%|██████████| 391/391 [00:13<00:00, 28.21it/s]\n",
            "  0%|          | 0/391 [00:00<?, ?it/s]"
          ],
          "name": "stderr"
        },
        {
          "output_type": "stream",
          "text": [
            "\n",
            "Validation set: Average loss: 0.0043, Accuracy: 8365/10000 (83.65%)\n",
            "\n",
            "Epoch 36:\n"
          ],
          "name": "stdout"
        },
        {
          "output_type": "stream",
          "text": [
            "Loss=0.27 Batch ID=390 Accuracy=91.84: 100%|██████████| 391/391 [00:13<00:00, 28.05it/s]\n",
            "  0%|          | 0/391 [00:00<?, ?it/s]"
          ],
          "name": "stderr"
        },
        {
          "output_type": "stream",
          "text": [
            "\n",
            "Validation set: Average loss: 0.0044, Accuracy: 8366/10000 (83.66%)\n",
            "\n",
            "Epoch 37:\n"
          ],
          "name": "stdout"
        },
        {
          "output_type": "stream",
          "text": [
            "Loss=0.30 Batch ID=390 Accuracy=91.92: 100%|██████████| 391/391 [00:13<00:00, 28.50it/s]\n",
            "  0%|          | 0/391 [00:00<?, ?it/s]"
          ],
          "name": "stderr"
        },
        {
          "output_type": "stream",
          "text": [
            "\n",
            "Validation set: Average loss: 0.0049, Accuracy: 8269/10000 (82.69%)\n",
            "\n",
            "Epoch 38:\n"
          ],
          "name": "stdout"
        },
        {
          "output_type": "stream",
          "text": [
            "Loss=0.20 Batch ID=390 Accuracy=92.17: 100%|██████████| 391/391 [00:13<00:00, 29.43it/s]\n",
            "  0%|          | 0/391 [00:00<?, ?it/s]"
          ],
          "name": "stderr"
        },
        {
          "output_type": "stream",
          "text": [
            "\n",
            "Validation set: Average loss: 0.0045, Accuracy: 8285/10000 (82.85%)\n",
            "\n",
            "Epoch 39:\n"
          ],
          "name": "stdout"
        },
        {
          "output_type": "stream",
          "text": [
            "Loss=0.16 Batch ID=390 Accuracy=92.20: 100%|██████████| 391/391 [00:13<00:00, 28.20it/s]\n",
            "  0%|          | 0/391 [00:00<?, ?it/s]"
          ],
          "name": "stderr"
        },
        {
          "output_type": "stream",
          "text": [
            "\n",
            "Validation set: Average loss: 0.0045, Accuracy: 8324/10000 (83.24%)\n",
            "\n",
            "Epoch 40:\n"
          ],
          "name": "stdout"
        },
        {
          "output_type": "stream",
          "text": [
            "Loss=0.24 Batch ID=390 Accuracy=92.36: 100%|██████████| 391/391 [00:14<00:00, 27.40it/s]\n",
            "  0%|          | 0/391 [00:00<?, ?it/s]"
          ],
          "name": "stderr"
        },
        {
          "output_type": "stream",
          "text": [
            "\n",
            "Validation set: Average loss: 0.0046, Accuracy: 8317/10000 (83.17%)\n",
            "\n",
            "Epoch 41:\n"
          ],
          "name": "stdout"
        },
        {
          "output_type": "stream",
          "text": [
            "Loss=0.15 Batch ID=390 Accuracy=92.63: 100%|██████████| 391/391 [00:13<00:00, 28.14it/s]\n",
            "  0%|          | 0/391 [00:00<?, ?it/s]"
          ],
          "name": "stderr"
        },
        {
          "output_type": "stream",
          "text": [
            "\n",
            "Validation set: Average loss: 0.0044, Accuracy: 8385/10000 (83.85%)\n",
            "\n",
            "Epoch 42:\n"
          ],
          "name": "stdout"
        },
        {
          "output_type": "stream",
          "text": [
            "Loss=0.16 Batch ID=390 Accuracy=92.65: 100%|██████████| 391/391 [00:14<00:00, 27.89it/s]\n",
            "  0%|          | 0/391 [00:00<?, ?it/s]"
          ],
          "name": "stderr"
        },
        {
          "output_type": "stream",
          "text": [
            "\n",
            "Validation set: Average loss: 0.0044, Accuracy: 8384/10000 (83.84%)\n",
            "\n",
            "Epoch 43:\n"
          ],
          "name": "stdout"
        },
        {
          "output_type": "stream",
          "text": [
            "Loss=0.22 Batch ID=390 Accuracy=92.71: 100%|██████████| 391/391 [00:15<00:00, 25.87it/s]\n",
            "  0%|          | 0/391 [00:00<?, ?it/s]"
          ],
          "name": "stderr"
        },
        {
          "output_type": "stream",
          "text": [
            "\n",
            "Validation set: Average loss: 0.0044, Accuracy: 8376/10000 (83.76%)\n",
            "\n",
            "Epoch 44:\n"
          ],
          "name": "stdout"
        },
        {
          "output_type": "stream",
          "text": [
            "Loss=0.22 Batch ID=390 Accuracy=93.11: 100%|██████████| 391/391 [00:14<00:00, 26.77it/s]\n",
            "  0%|          | 0/391 [00:00<?, ?it/s]"
          ],
          "name": "stderr"
        },
        {
          "output_type": "stream",
          "text": [
            "\n",
            "Validation set: Average loss: 0.0046, Accuracy: 8357/10000 (83.57%)\n",
            "\n",
            "Epoch 45:\n"
          ],
          "name": "stdout"
        },
        {
          "output_type": "stream",
          "text": [
            "Loss=0.24 Batch ID=390 Accuracy=93.16: 100%|██████████| 391/391 [00:14<00:00, 26.91it/s]\n",
            "  0%|          | 0/391 [00:00<?, ?it/s]"
          ],
          "name": "stderr"
        },
        {
          "output_type": "stream",
          "text": [
            "\n",
            "Validation set: Average loss: 0.0046, Accuracy: 8363/10000 (83.63%)\n",
            "\n",
            "Epoch 46:\n"
          ],
          "name": "stdout"
        },
        {
          "output_type": "stream",
          "text": [
            "Loss=0.13 Batch ID=390 Accuracy=93.24: 100%|██████████| 391/391 [00:14<00:00, 26.67it/s]\n",
            "  0%|          | 0/391 [00:00<?, ?it/s]"
          ],
          "name": "stderr"
        },
        {
          "output_type": "stream",
          "text": [
            "\n",
            "Validation set: Average loss: 0.0045, Accuracy: 8340/10000 (83.40%)\n",
            "\n",
            "Epoch 47:\n"
          ],
          "name": "stdout"
        },
        {
          "output_type": "stream",
          "text": [
            "Loss=0.29 Batch ID=390 Accuracy=93.28: 100%|██████████| 391/391 [00:14<00:00, 26.36it/s]\n",
            "  0%|          | 0/391 [00:00<?, ?it/s]"
          ],
          "name": "stderr"
        },
        {
          "output_type": "stream",
          "text": [
            "\n",
            "Validation set: Average loss: 0.0045, Accuracy: 8357/10000 (83.57%)\n",
            "\n",
            "Epoch 48:\n"
          ],
          "name": "stdout"
        },
        {
          "output_type": "stream",
          "text": [
            "Loss=0.24 Batch ID=390 Accuracy=93.48: 100%|██████████| 391/391 [00:14<00:00, 27.90it/s]\n",
            "  0%|          | 0/391 [00:00<?, ?it/s]"
          ],
          "name": "stderr"
        },
        {
          "output_type": "stream",
          "text": [
            "\n",
            "Validation set: Average loss: 0.0047, Accuracy: 8346/10000 (83.46%)\n",
            "\n",
            "Epoch 49:\n"
          ],
          "name": "stdout"
        },
        {
          "output_type": "stream",
          "text": [
            "Loss=0.24 Batch ID=390 Accuracy=93.73: 100%|██████████| 391/391 [00:14<00:00, 26.96it/s]\n",
            "  0%|          | 0/391 [00:00<?, ?it/s]"
          ],
          "name": "stderr"
        },
        {
          "output_type": "stream",
          "text": [
            "\n",
            "Validation set: Average loss: 0.0046, Accuracy: 8365/10000 (83.65%)\n",
            "\n",
            "Epoch 50:\n"
          ],
          "name": "stdout"
        },
        {
          "output_type": "stream",
          "text": [
            "Loss=0.11 Batch ID=390 Accuracy=93.63: 100%|██████████| 391/391 [00:14<00:00, 27.19it/s]\n"
          ],
          "name": "stderr"
        },
        {
          "output_type": "stream",
          "text": [
            "\n",
            "Validation set: Average loss: 0.0046, Accuracy: 8350/10000 (83.50%)\n",
            "\n"
          ],
          "name": "stdout"
        }
      ]
    },
    {
      "cell_type": "markdown",
      "metadata": {
        "id": "2o99Jq1XTdo-",
        "colab_type": "text"
      },
      "source": [
        "## Plotting Results\n",
        "Plotting changes in validation loss and accuracy obtained during model training."
      ]
    },
    {
      "cell_type": "code",
      "metadata": {
        "id": "0X1Y72EbGgpr",
        "colab_type": "code",
        "colab": {}
      },
      "source": [
        "def plot_metric(values, metric):\n",
        "    # Initialize a figure\n",
        "    fig = plt.figure(figsize=(7, 5))\n",
        "\n",
        "    # Plot values\n",
        "    plt.plot(values)\n",
        "\n",
        "    # Set plot title\n",
        "    plt.title(f'Validation {metric}')\n",
        "\n",
        "    # Label axes\n",
        "    plt.xlabel('Epoch')\n",
        "    plt.ylabel(metric)\n",
        "\n",
        "    # Set legend\n",
        "    location = 'upper' if metric == 'Loss' else 'lower'\n",
        "\n",
        "    # Save plot\n",
        "    fig.savefig(f'{metric.lower()}_change.png')"
      ],
      "execution_count": 0,
      "outputs": []
    },
    {
      "cell_type": "markdown",
      "metadata": {
        "id": "OvkqQXw-2buM",
        "colab_type": "text"
      },
      "source": [
        "Plot changes in validation loss"
      ]
    },
    {
      "cell_type": "code",
      "metadata": {
        "id": "YSZR02cuA067",
        "colab_type": "code",
        "outputId": "cfb85f05-0ddb-4285-f678-218ee7e8d951",
        "colab": {
          "base_uri": "https://localhost:8080/",
          "height": 350
        }
      },
      "source": [
        "plot_metric(losses, 'Loss')"
      ],
      "execution_count": 13,
      "outputs": [
        {
          "output_type": "display_data",
          "data": {
            "image/png": "[encoded data removed]",
            "text/plain": [
              "<Figure size 504x360 with 1 Axes>"
            ]
          },
          "metadata": {
            "tags": []
          }
        }
      ]
    },
    {
      "cell_type": "markdown",
      "metadata": {
        "id": "OSctNrPG2afY",
        "colab_type": "text"
      },
      "source": [
        "Plot changes in validation accuracy"
      ]
    },
    {
      "cell_type": "code",
      "metadata": {
        "id": "xMFYHCFVA7Z-",
        "colab_type": "code",
        "outputId": "3b5cb56f-8c47-489f-89da-6b4ef0ac1cb2",
        "colab": {
          "base_uri": "https://localhost:8080/",
          "height": 350
        }
      },
      "source": [
        "plot_metric(accuracies, 'Accuracy')"
      ],
      "execution_count": 14,
      "outputs": [
        {
          "output_type": "display_data",
          "data": {
            "image/png": "[encoded data removed]",
            "text/plain": [
              "<Figure size 504x360 with 1 Axes>"
            ]
          },
          "metadata": {
            "tags": []
          }
        }
      ]
    },
    {
      "cell_type": "markdown",
      "metadata": {
        "id": "eDdwPBl8poDF",
        "colab_type": "text"
      },
      "source": [
        "## Result Analysis\n",
        "\n",
        "Displaying accuracy for each class in the entire validation dataset"
      ]
    },
    {
      "cell_type": "code",
      "metadata": {
        "id": "pDNFuDEDpoDG",
        "colab_type": "code",
        "outputId": "929fd387-319e-4d2a-95bb-e8cde2a167f1",
        "colab": {
          "base_uri": "https://localhost:8080/",
          "height": 187
        }
      },
      "source": [
        "class_correct = list(0. for i in range(10))\n",
        "class_total = list(0. for i in range(10))\n",
        "\n",
        "with torch.no_grad():\n",
        "    for _, (images, labels) in enumerate(val_loader, 0):\n",
        "        images, labels = images.to(device), labels.to(device)\n",
        "\n",
        "        outputs = model(images)\n",
        "        _, predicted = torch.max(outputs, 1)\n",
        "        c = (predicted == labels).squeeze()\n",
        "\n",
        "        for i in range(len(labels)):\n",
        "            label = labels[i]\n",
        "            class_correct[label] += c[i].item()\n",
        "            class_total[label] += 1\n",
        "\n",
        "\n",
        "for i in range(10):\n",
        "    print('Accuracy of %5s : %2d %%' % (classes[i], 100 * class_correct[i] / class_total[i]))"
      ],
      "execution_count": 16,
      "outputs": [
        {
          "output_type": "stream",
          "text": [
            "Accuracy of plane : 85 %\n",
            "Accuracy of   car : 91 %\n",
            "Accuracy of  bird : 73 %\n",
            "Accuracy of   cat : 74 %\n",
            "Accuracy of  deer : 84 %\n",
            "Accuracy of   dog : 72 %\n",
            "Accuracy of  frog : 88 %\n",
            "Accuracy of horse : 86 %\n",
            "Accuracy of  ship : 92 %\n",
            "Accuracy of truck : 86 %\n"
          ],
          "name": "stdout"
        }
      ]
    },
    {
      "cell_type": "code",
      "metadata": {
        "id": "lBXFeKGvXJba",
        "colab_type": "code",
        "colab": {}
      },
      "source": [
        ""
      ],
      "execution_count": 0,
      "outputs": []
    }
  ]
}